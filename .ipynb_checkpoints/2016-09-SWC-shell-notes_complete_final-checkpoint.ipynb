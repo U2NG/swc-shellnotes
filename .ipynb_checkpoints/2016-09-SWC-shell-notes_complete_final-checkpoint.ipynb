{
 "cells": [
  {
   "cell_type": "markdown",
   "metadata": {},
   "source": [
    "# Lecture Notes - Unix Shell"
   ]
  },
  {
   "cell_type": "markdown",
   "metadata": {},
   "source": [
    "* Introduce the day/syllabus\n",
    "* class website: \n",
    "* SWC Code of Conduct\n",
    "* Explain post-its"
   ]
  },
  {
   "cell_type": "markdown",
   "metadata": {},
   "source": []
  },
  {
   "cell_type": "markdown",
   "metadata": {},
   "source": [
    "### Intro to Software Carpentry: http://swcarpentry.github.io/slideshows/introducing-software-carpentry/index.html#slide-0"
   ]
  },
  {
   "cell_type": "markdown",
   "metadata": {},
   "source": [
    "You need to download some files to follow this lesson:\n",
    "\n",
    "* Download <b>shell-novice-data.zip</b> and move the file to your Desktop.\n",
    "* Unzip/extract the file (ask your instructor if you need help with this step). You should end up with a new folder called data-shell on your Desktop. \n",
    "* Create a new folder on your desktop called <b>SIO-SWC</b>\n",
    "* Move the <b> data-shell folder into the sio-swc folder </b>.\n",
    "* Open a terminal and type:\n"
   ]
  },
  {
   "cell_type": "code",
   "execution_count": 7,
   "metadata": {
    "collapsed": false
   },
   "outputs": [
    {
     "name": "stdout",
     "output_type": "stream",
     "text": []
    }
   ],
   "source": [
    "c"
   ]
  },
  {
   "cell_type": "markdown",
   "metadata": {},
   "source": [
    "#### In the lesson, you will find out how to access the data in this folder."
   ]
  },
  {
   "cell_type": "markdown",
   "metadata": {},
   "source": [
    "\n",
    "check to make sure data files have been installed to \\\\workshop\\data-shell\\\n",
    "\n",
    "Introducing the shell\n",
    "* The shell is a <b>command line interface</b>. \n",
    "* The Shell uses text commands instead of a graphical interface.  \n",
    "* The heart of a <b>CLI is a read-evaluate-print loop, or REPL </b>: \n",
    "* when the user types a command and then presses the enter (or return) key, the computer <b>reads it, executes it, and prints its output</b>. The user then types another command, and so on until the user logs off.\n",
    "\n",
    "* Commands are used in a program called a <b>command shell</b>. What your type goes into the shell, which then figures out what commands to run and orders the computer to execute them. Note, the shell is called the shell because it encloses the operating system in order to hide some of its complexity and make it simpler to interact with.\n",
    "\n",
    "* Importance of knowing how to use the Unix command shell the command line is often the easiest way to interact with remote machines and supercomputers. Familiarity with the shell is near essential to run a variety of specialised tools and resources including high-performance computing systems. As clusters and cloud computing systems become more popular for scientific data crunching, being able to interact with them is becoming a necessary skill.\n",
    "\n",
    "* Introduce Researcher Data: Nelle’s pipeline, Researcher data set and files used \n"
   ]
  },
  {
   "cell_type": "markdown",
   "metadata": {},
   "source": [
    "<b>Introduce Researcher Data: Nelle’s pipeline </b>\n",
    "Researcher data set and files used "
   ]
  },
  {
   "cell_type": "markdown",
   "metadata": {},
   "source": [
    "#### Nelle’s Pipeline: Starting Point\n",
    "Nelle Nemo, a marine biologist, has just returned from a six-month survey of the North Pacific Gyre, where she has been sampling gelatinous marine life in the Great Pacific Garbage Patch. She has 300 samples in all, and now needs to:\n",
    "* Run each sample through an assay machine that will measure the relative abundance of 300 different proteins. The machine’s output for a single sample is a file with one line for each protein.\n",
    "* Calculate statistics for each of the proteins separately using a program her supervisor wrote called <b>goostat</b>.\n",
    "* Compare the statistics for each protein with corresponding statistics for each other protein using a program one of the other graduate students wrote called goodiff.\n",
    "* Write up results. Her supervisor would really like her to do this by the end of the month so that her paper can appear in an upcoming special issue of Aquatic Goo Letters.\n",
    "\n",
    "It takes about half an hour for the assay machine to process each sample. The good news is that it only takes two minutes to set each one up. Since her lab has eight assay machines that she can use in parallel, this step will “only” take about two weeks.\n",
    "\n",
    "The bad news is that if she has to run goostat and goodiff by hand, she’ll have to enter filenames and click “OK” 45,150 times (300 runs ofgoostat, plus 300*299/2 (half of 300 times 299) runs of goodiff). At 30 seconds each, that will take more than two weeks. Not only would she miss her paper deadline, the chances of her typing all of those commands right are practically zero.\n",
    "\n",
    "The next few lessons will explore what she should do instead. More specifically, they explain how she can use a command shell to automate the repetitive steps in her processing pipeline so that her computer can work 24 hours a day while she writes her paper. As a bonus, once she has put a processing pipeline together, she will be able to use it again whenever she collects more data."
   ]
  },
  {
   "cell_type": "code",
   "execution_count": 8,
   "metadata": {
    "collapsed": false
   },
   "outputs": [
    {
     "name": "stdout",
     "output_type": "stream",
     "text": [
      "/Users/rotsuji\r\n"
     ]
    }
   ],
   "source": [
    "pwd"
   ]
  },
  {
   "cell_type": "markdown",
   "metadata": {},
   "source": [
    "# Lesson 1:  Files and Directories Objectives\n",
    "* Explain the similarities and differences between a file and a directory.\n",
    "* Translate an absolute path into a relative path and vice versa.\n",
    "* Construct absolute and relative paths that identify specific files and directories.\n",
    "* Explain the steps in the shell’s read-run-print cycle.\n",
    "* Identify the actual command, flags, and filenames in a command-line call.\n",
    "* Demonstrate the use of tab completion, and explain its advantages.\n"
   ]
  },
  {
   "cell_type": "markdown",
   "metadata": {},
   "source": [
    "#### Lesson starts here:"
   ]
  },
  {
   "cell_type": "markdown",
   "metadata": {},
   "source": [
    "* The part of the operating system responsible for managing files and directories is called the file system. \n",
    "\n",
    "* FS organizes our data into files, which hold information, and directories (also called “folders”), which hold files or other directories.\n",
    "\n",
    "* There are several commands are frequently used to create, inspect, rename, and delete files and directories. \n",
    "\n",
    "* let’s take a look at the shell window and start exploring:\n"
   ]
  },
  {
   "cell_type": "markdown",
   "metadata": {},
   "source": [
    "Fist looking at the shell:\n",
    "** $ **\n",
    "\n",
    "* the dollar sign is a ** prompt **. All shell commands are typed after the prompt.  \n",
    "\t\n",
    "Let’s start by typing: \n"
   ]
  },
  {
   "cell_type": "code",
   "execution_count": 9,
   "metadata": {
    "collapsed": false
   },
   "outputs": [
    {
     "name": "stdout",
     "output_type": "stream",
     "text": [
      "rotsuji\r\n"
     ]
    }
   ],
   "source": [
    "whoami"
   ]
  },
  {
   "cell_type": "markdown",
   "metadata": {},
   "source": [
    "the Output is the ID of the current user, shows us who the shell thinks we are.\n",
    "\n",
    "what’s happening:\n",
    "* finds a program called ** whoami **,\n",
    "* runs that program,\n",
    "* displays that program’s output, then\n",
    "* displays a new prompt to tell us that it’s ready for more commands.\n",
    "\n",
    "Next, let’s find out where we are by running a command called:\n"
   ]
  },
  {
   "cell_type": "code",
   "execution_count": 10,
   "metadata": {
    "collapsed": false
   },
   "outputs": [
    {
     "name": "stdout",
     "output_type": "stream",
     "text": [
      "/Users/rotsuji\r\n"
     ]
    }
   ],
   "source": [
    "pwd"
   ]
  },
  {
   "cell_type": "markdown",
   "metadata": {},
   "source": [
    "Or <b>“print working directory”</b> which shows your current working directory. \n",
    "\n",
    "The output you see is your **home directory.**\n",
    "\n",
    "\n",
    "Note: The directory path will look different on Windows ** Git Bash type example /c/Users/Reid or C:\\documents and settings\\Reid **"
   ]
  },
  {
   "cell_type": "markdown",
   "metadata": {},
   "source": [
    "#### Explain home directory:\n",
    "\n",
    "\n",
    "To understand what a “home directory” is, let’s have a look at how the file system as a whole is organized.\n",
    "\n",
    "* show file system image  http://swcarpentry.github.io/shell-novice/fig/filesystem.svg\n",
    "\n",
    "At the top is the **root directory** that holds everything else. We refer to it using a slash character / on its own; this is the leading slash in/Users/nelle.\n",
    "\n",
    "After this illustration, you’ll be learning commands to explore your own filesystem, which will be constructed in a similar way, but not be exactly identical.\n",
    "\n",
    "Inside that directory are several other directories: bin (which is where some built-in programs are stored), data (for miscellaneous data files), Users (where users’ personal directories are located), tmp (for temporary files that don’t need to be stored long-term), and so on.\n",
    "\n",
    "We know that our current working directory /Users/nelle is stored inside /Users because /Users is the first part of its name. Similarly, we know that /Users is stored inside the root directory / because its name begins with /.\n",
    "\n"
   ]
  },
  {
   "cell_type": "markdown",
   "metadata": {},
   "source": [
    "Typically, when you open a new command prompt you will be in your home directory to start.\n",
    "\n",
    "Now let’s learn the command that will let us see the contents of our own filesystem. We can see what’s in our home directory by running ls, which stands for “listing”:\n"
   ]
  },
  {
   "cell_type": "code",
   "execution_count": 12,
   "metadata": {
    "collapsed": false
   },
   "outputs": [
    {
     "name": "stdout",
     "output_type": "stream",
     "text": [
      "Adlm\t\t\t\tanaconda\r\n",
      "Applications\t\t\tbackup-rstudio-desktop\r\n",
      "Applications (Parallels)\tdata\r\n",
      "Conferencing\t\t\tdata-carpentry\r\n",
      "Creative Cloud Files\t\tgit_test\r\n",
      "Desktop\t\t\t\tlibswc\r\n",
      "Documents\t\t\tmy_project\r\n",
      "Downloads\t\t\tmyprojects\r\n",
      "Google Drive\t\t\tpebble-dev\r\n",
      "Google Drive MBPRO\t\tplanets\r\n",
      "LibCarp-lesson-two.docx\t\tplanets-test\r\n",
      "Library\t\t\t\tsd-workshop\r\n",
      "Movies\t\t\t\tsio-swc\r\n",
      "Music\t\t\t\tstickies 5_2016.txt\r\n",
      "My_R_projects\t\t\tswCarpentry-shell-data\r\n",
      "Pictures\t\t\tswc_files\r\n",
      "Public\t\t\t\tto-do stickie.txt\r\n",
      "README.md\t\t\ttodo - stickies .txt\r\n",
      "USERNAME.github.com\t\tvagrant_getting_started\r\n",
      "VirtualBox VMs\t\t\tvagrant_vms\r\n"
     ]
    }
   ],
   "source": [
    "ls"
   ]
  },
  {
   "cell_type": "markdown",
   "metadata": {},
   "source": [
    "**ls** prints the names of the files and directories in the current directory in alphabetical order, arranged neatly into columns. \n",
    "\n",
    "We can make its output more comprehensible by using the **flag -F**, which tells **ls to add a trailing / to the names of directories:**"
   ]
  },
  {
   "cell_type": "code",
   "execution_count": 13,
   "metadata": {
    "collapsed": false
   },
   "outputs": [
    {
     "name": "stdout",
     "output_type": "stream",
     "text": [
      "Adlm/\t\t\t\tanaconda/\r\n",
      "Applications/\t\t\tbackup-rstudio-desktop/\r\n",
      "Applications (Parallels)/\tdata/\r\n",
      "Conferencing/\t\t\tdata-carpentry/\r\n",
      "Creative Cloud Files/\t\tgit_test/\r\n",
      "Desktop/\t\t\tlibswc/\r\n",
      "Documents/\t\t\tmy_project/\r\n",
      "Downloads/\t\t\tmyprojects/\r\n",
      "Google Drive/\t\t\tpebble-dev/\r\n",
      "Google Drive MBPRO/\t\tplanets/\r\n",
      "LibCarp-lesson-two.docx\t\tplanets-test/\r\n",
      "Library/\t\t\tsd-workshop/\r\n",
      "Movies/\t\t\t\tsio-swc/\r\n",
      "Music/\t\t\t\tstickies 5_2016.txt\r\n",
      "My_R_projects/\t\t\tswCarpentry-shell-data/\r\n",
      "Pictures/\t\t\tswc_files/\r\n",
      "Public/\t\t\t\tto-do stickie.txt\r\n",
      "README.md\t\t\ttodo - stickies .txt\r\n",
      "USERNAME.github.com/\t\tvagrant_getting_started/\r\n",
      "VirtualBox VMs/\t\t\tvagrant_vms/\r\n"
     ]
    }
   ],
   "source": [
    "ls -F"
   ]
  },
  {
   "cell_type": "markdown",
   "metadata": {},
   "source": [
    "The forward slash after file names show directories that contain sub-directories\n",
    "\n",
    "We can also use **ls** to see the contents of a different directory. \n",
    "\n",
    "Let’s take a look at our Desktop directory by running **ls -F Desktop**, i.e., the command ls with the **arguments -F and Desktop.** The second argument — the one without a leading dash — tells ls that we want a listing of something other than our current working directory:\n"
   ]
  },
  {
   "cell_type": "markdown",
   "metadata": {},
   "source": [
    "**ls** has lots of other options. To find out what they are, we can type:"
   ]
  },
  {
   "cell_type": "code",
   "execution_count": 1,
   "metadata": {
    "collapsed": false
   },
   "outputs": [
    {
     "name": "stdout",
     "output_type": "stream",
     "text": [
      "ls: illegal option -- -\r\n",
      "usage: ls [-ABCFGHLOPRSTUWabcdefghiklmnopqrstuwx1] [file ...]\r\n"
     ]
    }
   ],
   "source": [
    "ls --help"
   ]
  },
  {
   "cell_type": "markdown",
   "metadata": {},
   "source": [
    "Introduce **man** help pages.\n",
    "\n",
    "Note: Windows Gitbash does not support man. use web search for information.\n",
    "\n",
    "To navigate through the man pages, you may use the **up and down arrow keys** to move line-by-line, or try the **“b” and spacebar keys to skip up and down by full page.** \n",
    "\n",
    "**Quit the man pages by typing “q”.**\n"
   ]
  },
  {
   "cell_type": "code",
   "execution_count": 18,
   "metadata": {
    "collapsed": false
   },
   "outputs": [
    {
     "name": "stdout",
     "output_type": "stream",
     "text": [
      "ANSM presentation FINAL Copies/\r\n",
      "ConnectingtoLibraryserversinOSX.pdf\r\n",
      "DSC_1742.JPG*\r\n",
      "DSC_7135.JPG*\r\n",
      "GoogleRefineCheatSheets.pdf\r\n",
      "Introduction-to-OpenRefine-handout-CC-BY.pdf\r\n",
      "LC-data/\r\n",
      "Launcher.app@\r\n",
      "MSFTFreeEbooks.txt\r\n",
      "MyPDF.PDF\r\n",
      "OpoenRefinetutorial.pdf\r\n",
      "ParallelsDesktop-12.0.0-41273.dmg\r\n",
      "Screen Shot 2016-09-07 at 2.15.01 PM.png\r\n",
      "Screen Shot 2016-09-07 at 2.16.48 PM.png\r\n",
      "Screen Shot 2016-09-07 at 2.25.50 PM.png\r\n",
      "Screen Shot 2016-09-07 at 2.27.50 PM.png\r\n",
      "Software carpentry stuff/\r\n",
      "Travel Funding Request Form Calc_Rev2014.02.21.pdf\r\n",
      "Ubuntu Linux 14.04 Desktop@\r\n",
      "Unix Shell Lesson Images/\r\n",
      "blender tutorial/\r\n",
      "desktop items for review/\r\n",
      "desktop stuff 5-2016/\r\n",
      "libcarp-data-notes/\r\n",
      "libcarp-data-notes - clean/\r\n",
      "lifecycle__intestinal_parasites_1.png\r\n",
      "lifecycle__intestinal_parasites_2.png\r\n",
      "otsuji_reid.pdf\r\n",
      "remy_on_trike.jpg\r\n",
      "sio-swc/\r\n",
      "slice.avi\r\n",
      "workshop/\r\n",
      "workshop_old/\r\n"
     ]
    }
   ],
   "source": [
    "ls -F Desktop"
   ]
  },
  {
   "cell_type": "markdown",
   "metadata": {},
   "source": [
    "Your output should be a list of all the files and sub-directories on your Desktop, including the workshop/data-shell directory you setup before the lesson. Take a look at your Desktop to confirm that your output is accurate.\n",
    "\n",
    "As you may now see, using a bash shell is strongly dependent on the idea that your files are organized in an hierarchical file system.\n",
    "\n",
    "Now that we know the data-shell directory is located on our Desktop in the workshop folder, we can do two things.\n",
    "First, we can look at its contents, using the same strategy as before, passing a directory name to ls:"
   ]
  },
  {
   "cell_type": "code",
   "execution_count": 4,
   "metadata": {
    "collapsed": false
   },
   "outputs": [
    {
     "name": "stdout",
     "output_type": "stream",
     "text": [
      "/Users/rotsuji\r\n"
     ]
    }
   ],
   "source": [
    "pwd"
   ]
  },
  {
   "cell_type": "code",
   "execution_count": 5,
   "metadata": {
    "collapsed": false
   },
   "outputs": [
    {
     "name": "stdout",
     "output_type": "stream",
     "text": [
      "Desktop/\t\tmolecules/\t\tpizza.cfg\r\n",
      "creatures/\t\tnorth-pacific-gyre/\tsolar.pdf\r\n",
      "data/\t\t\tnotes.txt\t\twriting/\r\n"
     ]
    }
   ],
   "source": [
    "ls -F Desktop/sio-swc/data-shell"
   ]
  },
  {
   "cell_type": "markdown",
   "metadata": {},
   "source": [
    "we can actually change our location to a different directory, so we are no longer located in our home directory.\t\n",
    "\n",
    "The command to change locations is **cd** followed by a directory name to change our working directory. cd stands for “change directory”, which is a bit misleading: the command doesn’t change the directory, it changes the shell’s idea of what directory we are in.\n",
    "\n",
    "Let’s say we want to move to the **data directory** we saw above. We can use the following series of commands to get there:"
   ]
  },
  {
   "cell_type": "markdown",
   "metadata": {},
   "source": [
    "To start over from my home directory, you can use the command:"
   ]
  },
  {
   "cell_type": "code",
   "execution_count": 15,
   "metadata": {
    "collapsed": false
   },
   "outputs": [
    {
     "name": "stdout",
     "output_type": "stream",
     "text": []
    }
   ],
   "source": [
    "cd "
   ]
  },
  {
   "cell_type": "code",
   "execution_count": 16,
   "metadata": {
    "collapsed": false
   },
   "outputs": [
    {
     "name": "stdout",
     "output_type": "stream",
     "text": [
      "/Users/rotsuji\r\n"
     ]
    }
   ],
   "source": [
    "pwd"
   ]
  },
  {
   "cell_type": "code",
   "execution_count": 12,
   "metadata": {
    "collapsed": false
   },
   "outputs": [
    {
     "name": "stdout",
     "output_type": "stream",
     "text": []
    }
   ],
   "source": [
    "cd desktop"
   ]
  },
  {
   "cell_type": "code",
   "execution_count": 13,
   "metadata": {
    "collapsed": false
   },
   "outputs": [
    {
     "name": "stdout",
     "output_type": "stream",
     "text": []
    }
   ],
   "source": [
    "cd sio-swc"
   ]
  },
  {
   "cell_type": "code",
   "execution_count": 14,
   "metadata": {
    "collapsed": false
   },
   "outputs": [
    {
     "name": "stdout",
     "output_type": "stream",
     "text": []
    }
   ],
   "source": [
    "cd data-shell"
   ]
  },
  {
   "cell_type": "markdown",
   "metadata": {},
   "source": [
    "These commands will move us from our home directory onto our Desktop, then into the workshop  directory then into data-shell directory, then into the data directory. cd doesn’t print anything, but if we run pwd after it, we can see that we are now in\n",
    "/desktop/sio-swc/data-shell/\n",
    "\n",
    "to check type:"
   ]
  },
  {
   "cell_type": "code",
   "execution_count": 19,
   "metadata": {
    "collapsed": false
   },
   "outputs": [
    {
     "name": "stdout",
     "output_type": "stream",
     "text": [
      "/Users/rotsuji/Desktop/sio-swc/data-shell\r\n"
     ]
    }
   ],
   "source": [
    "pwd"
   ]
  },
  {
   "cell_type": "code",
   "execution_count": 20,
   "metadata": {
    "collapsed": false
   },
   "outputs": [
    {
     "name": "stdout",
     "output_type": "stream",
     "text": [
      "Desktop/\t\tmolecules/\t\tpizza.cfg\r\n",
      "creatures/\t\tnorth-pacific-gyre/\tsolar.pdf\r\n",
      "data/\t\t\tnotes.txt\t\twriting/\r\n"
     ]
    }
   ],
   "source": [
    "ls -F"
   ]
  },
  {
   "cell_type": "markdown",
   "metadata": {},
   "source": [
    "Now We now know how to go down the directory tree: how do we go up? We might try the following:"
   ]
  },
  {
   "cell_type": "code",
   "execution_count": 21,
   "metadata": {
    "collapsed": false
   },
   "outputs": [
    {
     "name": "stdout",
     "output_type": "stream",
     "text": [
      "bash: cd: data-shell: No such file or directory\r\n"
     ]
    }
   ],
   "source": [
    "cd data-shell"
   ]
  },
  {
   "cell_type": "markdown",
   "metadata": {},
   "source": [
    "Error!   cd can only see sub-directories inside your current directory\n",
    "\tWindows - no such file or directory cd\n",
    "    \n",
    "There is a shortcut in the shell to move up one directory level that looks like this:"
   ]
  },
  {
   "cell_type": "code",
   "execution_count": 22,
   "metadata": {
    "collapsed": false
   },
   "outputs": [
    {
     "name": "stdout",
     "output_type": "stream",
     "text": []
    }
   ],
   "source": [
    "cd .."
   ]
  },
  {
   "cell_type": "markdown",
   "metadata": {},
   "source": [
    ".. is a special directory name meaning “the directory containing this one”, or more succinctly, the parent of the current directory. Sure enough, if we run pwd after running cd .."
   ]
  },
  {
   "cell_type": "code",
   "execution_count": 23,
   "metadata": {
    "collapsed": false
   },
   "outputs": [
    {
     "name": "stdout",
     "output_type": "stream",
     "text": [
      "/Users/rotsuji/Desktop/sio-swc\r\n"
     ]
    }
   ],
   "source": [
    "pwd"
   ]
  },
  {
   "cell_type": "markdown",
   "metadata": {},
   "source": [
    "The special or hidden directory .. doesn’t usually show up when we run ls. If we want to display it, we can give ls the -a flag:"
   ]
  },
  {
   "cell_type": "code",
   "execution_count": 24,
   "metadata": {
    "collapsed": false
   },
   "outputs": [
    {
     "name": "stdout",
     "output_type": "stream",
     "text": [
      "./\t\t.DS_Store\tREADME.md\r\n",
      "../\t\t.git/\t\tdata-shell/\r\n"
     ]
    }
   ],
   "source": [
    "ls -F -a"
   ]
  },
  {
   "cell_type": "markdown",
   "metadata": {},
   "source": [
    "-a stands for “show all”; it forces ls to show us file and directory names that begin with ., such as ..\n",
    "As you can see, it also displays another special directory that’s just called., which means “the current working directory”. It may seem redundant to have a name for it, but we’ll see some uses for it soon.\n",
    "\n",
    "These then, are the basic commands for navigating the filesystem on your computer: pwd, ls and cd. Let’s explore some variations on those commands. \n",
    "\n",
    "What happens if you type cd on its own, without giving a directory?"
   ]
  },
  {
   "cell_type": "code",
   "execution_count": 25,
   "metadata": {
    "collapsed": false
   },
   "outputs": [
    {
     "name": "stdout",
     "output_type": "stream",
     "text": []
    }
   ],
   "source": [
    "cd"
   ]
  },
  {
   "cell_type": "markdown",
   "metadata": {},
   "source": [
    "How can you check what happened? pwd gives us the answer!"
   ]
  },
  {
   "cell_type": "code",
   "execution_count": 26,
   "metadata": {
    "collapsed": false
   },
   "outputs": [
    {
     "name": "stdout",
     "output_type": "stream",
     "text": [
      "/Users/rotsuji\r\n"
     ]
    }
   ],
   "source": [
    "pwd"
   ]
  },
  {
   "cell_type": "markdown",
   "metadata": {},
   "source": [
    "It turns out that cd without an argument will return you to your home directory, which is great if you’ve gotten lost in your own filesystem.\n",
    "\n",
    "Let’s try returning to the data directory from before. Last time, we used three commands, but we can actually string together the list of directories to move to data in one step:"
   ]
  },
  {
   "cell_type": "code",
   "execution_count": 27,
   "metadata": {
    "collapsed": false
   },
   "outputs": [
    {
     "name": "stdout",
     "output_type": "stream",
     "text": []
    }
   ],
   "source": [
    "cd desktop/sio-swc/data-shell"
   ]
  },
  {
   "cell_type": "markdown",
   "metadata": {},
   "source": [
    "Check that we’ve moved to the right place by running pwd and ls -F."
   ]
  },
  {
   "cell_type": "code",
   "execution_count": 28,
   "metadata": {
    "collapsed": false
   },
   "outputs": [
    {
     "name": "stdout",
     "output_type": "stream",
     "text": [
      "/Users/rotsuji/desktop/sio-swc/data-shell\r\n"
     ]
    }
   ],
   "source": [
    "pwd"
   ]
  },
  {
   "cell_type": "code",
   "execution_count": 29,
   "metadata": {
    "collapsed": false
   },
   "outputs": [
    {
     "name": "stdout",
     "output_type": "stream",
     "text": [
      "Desktop/\t\tmolecules/\t\tpizza.cfg\r\n",
      "creatures/\t\tnorth-pacific-gyre/\tsolar.pdf\r\n",
      "data/\t\t\tnotes.txt\t\twriting/\r\n"
     ]
    }
   ],
   "source": [
    "ls -F"
   ]
  },
  {
   "cell_type": "markdown",
   "metadata": {},
   "source": [
    "ensure that we’re in the directory we expect\n",
    "\n",
    "**shortcuts:** The shell interprets the character ~ (tilde) at the start of a path to mean “the current user’s home directory”.  e.g. /c/Users/Reid\n",
    "Another shortcut is the - (dash) character. cd will translate - into the previous directory I was in, which is faster than having to remember, then type, the full path. \n",
    "\n",
    "**The difference between cd .. and cd - is that the former brings you up, while the later brings you back.**"
   ]
  },
  {
   "cell_type": "markdown",
   "metadata": {},
   "source": [
    "#### Introduce Nelle's pipline Organizing files:"
   ]
  },
  {
   "cell_type": "markdown",
   "metadata": {},
   "source": [
    "lets look at the researcher's files:\n",
    "\n",
    "First, she creates a directory called north-pacific-gyre (to remind herself where the data came from). \n",
    "Inside that, she creates a directory called 2012-07-03, which is the date she started processing the samples. She used to use names like conference-paper and revised-results, but she found them hard to understand after a couple of years. (The final straw was when she found herself creating a directory called revised-revised-results-3.)\n",
    "\n",
    "Each of her physical samples is labelled according to her lab’s convention with a unique ten-character ID, such as “NENE01729A”. \n",
    "\n",
    "This is what she used in her collection log to record the location, time, depth, and other characteristics of the sample, so she decides to use it as part of each data file’s name. \n",
    "\n",
    "Since the assay machine’s output is plain text, she will call her files NENE01729A.txt, NENE01812A.txt, and so on. All 1520 files will go into the same directory.\n"
   ]
  },
  {
   "cell_type": "markdown",
   "metadata": {},
   "source": [
    "Introduce tab completion while looking at Nelle's files:"
   ]
  },
  {
   "cell_type": "code",
   "execution_count": 30,
   "metadata": {
    "collapsed": false
   },
   "outputs": [
    {
     "name": "stdout",
     "output_type": "stream",
     "text": [
      "/Users/rotsuji/desktop/sio-swc/data-shell\r\n"
     ]
    }
   ],
   "source": [
    "pwd"
   ]
  },
  {
   "cell_type": "code",
   "execution_count": 31,
   "metadata": {
    "collapsed": false
   },
   "outputs": [
    {
     "name": "stdout",
     "output_type": "stream",
     "text": [
      "NENE01729A.txt\tNENE01751B.txt\tNENE01971Z.txt\tNENE02040A.txt\tNENE02043B.txt\r\n",
      "NENE01729B.txt\tNENE01812A.txt\tNENE01978A.txt\tNENE02040B.txt\tgoodiff\r\n",
      "NENE01736A.txt\tNENE01843A.txt\tNENE01978B.txt\tNENE02040Z.txt\tgoostats\r\n",
      "NENE01751A.txt\tNENE01843B.txt\tNENE02018B.txt\tNENE02043A.txt\r\n"
     ]
    }
   ],
   "source": [
    "ls north-pacific-gyre/2012-07-03"
   ]
  },
  {
   "cell_type": "markdown",
   "metadata": {},
   "source": [
    "This is a lot to type, but we can let the shell do most of the work through what is called **tab completion.** If we types:"
   ]
  },
  {
   "cell_type": "markdown",
   "metadata": {},
   "source": [
    "**$ ls nor [TAB]**"
   ]
  },
  {
   "cell_type": "markdown",
   "metadata": {},
   "source": [
    "and then presses tab (the tab key on her keyboard), the shell automatically completes the directory name for us: $ ls north-pacific-gyre/ "
   ]
  },
  {
   "cell_type": "markdown",
   "metadata": {},
   "source": [
    "**$ [Tab]**"
   ]
  },
  {
   "cell_type": "markdown",
   "metadata": {},
   "source": [
    "If we presses tab again, Bash will add 2012-07-03/ to the command, since it’s the only possible completion. \n",
    "$ ls north-pacific-gyre/2012-07-03/"
   ]
  },
  {
   "cell_type": "code",
   "execution_count": 34,
   "metadata": {
    "collapsed": false
   },
   "outputs": [
    {
     "name": "stdout",
     "output_type": "stream",
     "text": [
      "/Users/rotsuji/desktop/sio-swc/data-shell/north-pacific-gyre/2012-07-03\r\n"
     ]
    }
   ],
   "source": [
    "pwd"
   ]
  },
  {
   "cell_type": "markdown",
   "metadata": {},
   "source": [
    "## CHALLENGE SET 1 - end of section"
   ]
  },
  {
   "cell_type": "markdown",
   "metadata": {},
   "source": [
    "http://swcarpentry.github.io/shell-novice/02-filedir/#absolute-vs-relative-paths"
   ]
  },
  {
   "cell_type": "markdown",
   "metadata": {},
   "source": [
    "# Lesson 2:  Files and Directories Objectives"
   ]
  },
  {
   "cell_type": "markdown",
   "metadata": {},
   "source": [
    "* Create a directory hierarchy that matches a given diagram.\n",
    "* Create files in that hierarchy using an editor or by copying and renaming existing files.\n",
    "* Display the contents of a directory using the command line.\n",
    "* Delete specified files and/or directories.\n"
   ]
  },
  {
   "cell_type": "markdown",
   "metadata": {},
   "source": [
    "We now know how to explore files and directories, but how do we create them in the first place? Let’s go back to our **data-shell** directory\n",
    "\t\n",
    "If you are not at your data-shell directory use the cd command:"
   ]
  },
  {
   "cell_type": "code",
   "execution_count": 36,
   "metadata": {
    "collapsed": false
   },
   "outputs": [
    {
     "name": "stdout",
     "output_type": "stream",
     "text": [
      "/Users/rotsuji/desktop/sio-swc/data-shell/north-pacific-gyre\r\n"
     ]
    }
   ],
   "source": [
    "pwd"
   ]
  },
  {
   "cell_type": "code",
   "execution_count": 37,
   "metadata": {
    "collapsed": false
   },
   "outputs": [
    {
     "name": "stdout",
     "output_type": "stream",
     "text": []
    }
   ],
   "source": [
    "cd .."
   ]
  },
  {
   "cell_type": "markdown",
   "metadata": {},
   "source": [
    "now let’s check that we are in our data-shell directory and see what it contains:"
   ]
  },
  {
   "cell_type": "code",
   "execution_count": 38,
   "metadata": {
    "collapsed": false
   },
   "outputs": [
    {
     "name": "stdout",
     "output_type": "stream",
     "text": [
      "/Users/rotsuji/desktop/sio-swc/data-shell\r\n"
     ]
    }
   ],
   "source": [
    "pwd"
   ]
  },
  {
   "cell_type": "code",
   "execution_count": 39,
   "metadata": {
    "collapsed": false
   },
   "outputs": [
    {
     "name": "stdout",
     "output_type": "stream",
     "text": [
      "Desktop/\t\tmolecules/\t\tpizza.cfg\r\n",
      "creatures/\t\tnorth-pacific-gyre/\tsolar.pdf\r\n",
      "data/\t\t\tnotes.txt\t\twriting/\r\n"
     ]
    }
   ],
   "source": [
    "ls -F"
   ]
  },
  {
   "cell_type": "markdown",
   "metadata": {},
   "source": [
    "Let’s create a new directory called thesis using the command **mkdir thesis (which has no output):**"
   ]
  },
  {
   "cell_type": "code",
   "execution_count": 40,
   "metadata": {
    "collapsed": false
   },
   "outputs": [
    {
     "name": "stdout",
     "output_type": "stream",
     "text": []
    }
   ],
   "source": [
    "mkdir thesis"
   ]
  },
  {
   "cell_type": "markdown",
   "metadata": {},
   "source": [
    "As you might (or might not) guess from its name, mkdir means “make directory”. Since thesis is a relative path (i.e., doesn’t have a leading slash), "
   ]
  },
  {
   "cell_type": "code",
   "execution_count": 41,
   "metadata": {
    "collapsed": false
   },
   "outputs": [
    {
     "name": "stdout",
     "output_type": "stream",
     "text": [
      "Desktop/\t\tnorth-pacific-gyre/\tthesis/\r\n",
      "creatures/\t\tnotes.txt\t\twriting/\r\n",
      "data/\t\t\tpizza.cfg\r\n",
      "molecules/\t\tsolar.pdf\r\n"
     ]
    }
   ],
   "source": [
    "ls -F"
   ]
  },
  {
   "cell_type": "markdown",
   "metadata": {},
   "source": [
    "the new directory is created in the current working directory\n",
    "However, there’s nothing in it yet: "
   ]
  },
  {
   "cell_type": "markdown",
   "metadata": {},
   "source": [
    "#### Advice:\n",
    "\n",
    "Complicated names of files and directories can make your life very painful when working on the command line. Here we provide a few useful tips for the names of your files from now on.\n",
    "\n",
    "* Don’t use whitespaces.\n",
    "\n",
    "White spaces can make a name more meaningful but since whitespace is used to break arguments on the command line is better to avoid them on name of files and directories. You can use - or _ instead of whitespace.\n",
    "\n",
    "* Don’t begin the name with -.\n",
    "\n",
    "Commands treat names starting with - as options.\n",
    "\n",
    "* Stay with letters, numbers, ., - and _.\n",
    "\n",
    "May of the others characters have an special meaning on the command line that we will learn during this lesson. Some will only make your command not work at all but for some of them you can even lose some data.\n",
    "\n",
    "If you need to refer to names of files or directories that have whitespace or another non-alphanumeric character you should put quotes around the name.\n"
   ]
  },
  {
   "cell_type": "code",
   "execution_count": 42,
   "metadata": {
    "collapsed": false
   },
   "outputs": [
    {
     "name": "stdout",
     "output_type": "stream",
     "text": []
    }
   ],
   "source": [
    "ls -F thesis"
   ]
  },
  {
   "cell_type": "markdown",
   "metadata": {},
   "source": [
    "shows no list because the directory is empty.\n",
    "\n",
    "Let’s create and add a file.  Let’s change our working directory to thesis using cd, then run a text editor called Nano to create a file called draft.txt:"
   ]
  },
  {
   "cell_type": "code",
   "execution_count": 43,
   "metadata": {
    "collapsed": false
   },
   "outputs": [
    {
     "name": "stdout",
     "output_type": "stream",
     "text": []
    }
   ],
   "source": [
    "cd thesis"
   ]
  },
  {
   "cell_type": "code",
   "execution_count": 44,
   "metadata": {
    "collapsed": false
   },
   "outputs": [
    {
     "name": "stdout",
     "output_type": "stream",
     "text": [
      "/Users/rotsuji/desktop/sio-swc/data-shell/thesis\r\n"
     ]
    }
   ],
   "source": [
    "pwd"
   ]
  },
  {
   "cell_type": "markdown",
   "metadata": {},
   "source": [
    "Run nano draft.txt to create draft.txt file"
   ]
  },
  {
   "cell_type": "markdown",
   "metadata": {},
   "source": [
    "**$ nano draft.txt**\n",
    "\n",
    "Windows users can run:notepad draft.txt or nano in gitbash"
   ]
  },
  {
   "cell_type": "markdown",
   "metadata": {},
   "source": [
    "**It’s not “publish or perish” anymore,\n",
    "\tit’s “share and thrive”.**\n",
    "\n",
    "Let’s type in a few lines of text, mac users: use Control-O to write our data to disk:\n",
    "(Windows users save the txt file directly to the \\\\workshop\\data-shell\\thesis\\ folder)\n",
    "\n",
    "Once our file is saved, we can use Control-X to quit the nano editor and return to the shell. (Unix documentation often uses the shorthand ^A to mean “control-A”.) nano doesn’t leave any output on the screen after it exits, \n"
   ]
  },
  {
   "cell_type": "code",
   "execution_count": 45,
   "metadata": {
    "collapsed": false
   },
   "outputs": [
    {
     "name": "stdout",
     "output_type": "stream",
     "text": [
      "draft.txt\r\n"
     ]
    }
   ],
   "source": [
    "ls"
   ]
  },
  {
   "cell_type": "markdown",
   "metadata": {},
   "source": [
    "ls now shows that we have created a file called draft.txt:\n",
    "\n",
    "now, Let’s tidy up by running rm draft.txt:"
   ]
  },
  {
   "cell_type": "code",
   "execution_count": 46,
   "metadata": {
    "collapsed": false
   },
   "outputs": [
    {
     "name": "stdout",
     "output_type": "stream",
     "text": []
    }
   ],
   "source": [
    "rm draft.txt"
   ]
  },
  {
   "cell_type": "markdown",
   "metadata": {},
   "source": [
    "This command removes files (“rm” is short for “remove”). If we run ls again, its output is empty once more, which tells us that our file is gone:"
   ]
  },
  {
   "cell_type": "code",
   "execution_count": 47,
   "metadata": {
    "collapsed": false
   },
   "outputs": [
    {
     "name": "stdout",
     "output_type": "stream",
     "text": []
    }
   ],
   "source": [
    "ls"
   ]
  },
  {
   "cell_type": "markdown",
   "metadata": {},
   "source": [
    "the thesis directory is now empty."
   ]
  },
  {
   "cell_type": "markdown",
   "metadata": {},
   "source": [
    "**Deletion note:**  The Unix shell doesn’t have a trash bin that we can recover deleted files from (though most graphical interfaces to Unix do). Instead, when we delete files, they are unhooked from the file system so that their storage space on disk can be recycled. Tools for finding and recovering deleted files do exist, but there’s no guarantee they’ll work in any particular situation, since the computer may recycle the file’s disk space right away. \n",
    "\n",
    "* deleting is forever\n",
    "\n",
    "keep this in mind when deleting files in the Shell"
   ]
  },
  {
   "cell_type": "code",
   "execution_count": 48,
   "metadata": {
    "collapsed": false
   },
   "outputs": [
    {
     "name": "stdout",
     "output_type": "stream",
     "text": [
      "/Users/rotsuji/desktop/sio-swc/data-shell/thesis\r\n"
     ]
    }
   ],
   "source": [
    "pwd"
   ]
  },
  {
   "cell_type": "markdown",
   "metadata": {},
   "source": [
    "next, we are going to re-create that file in thesis folder again and then move up one directory to using cd ..:\n",
    "\n",
    "recreate file by typing\n"
   ]
  },
  {
   "cell_type": "markdown",
   "metadata": {},
   "source": [
    "**$ nano draft.txt or notepad draft.txt**"
   ]
  },
  {
   "cell_type": "markdown",
   "metadata": {},
   "source": [
    "type something in the txt file.\n",
    "double check the file has been created by typing **ls**"
   ]
  },
  {
   "cell_type": "code",
   "execution_count": 49,
   "metadata": {
    "collapsed": false
   },
   "outputs": [
    {
     "name": "stdout",
     "output_type": "stream",
     "text": [
      "draft.txt\r\n"
     ]
    }
   ],
   "source": [
    "ls"
   ]
  },
  {
   "cell_type": "code",
   "execution_count": 50,
   "metadata": {
    "collapsed": false
   },
   "outputs": [
    {
     "name": "stdout",
     "output_type": "stream",
     "text": [
      "/Users/rotsuji/desktop/sio-swc/data-shell/thesis\r\n"
     ]
    }
   ],
   "source": [
    "pwd"
   ]
  },
  {
   "cell_type": "markdown",
   "metadata": {},
   "source": [
    "move up one directory by typing cd .. cd ."
   ]
  },
  {
   "cell_type": "code",
   "execution_count": 51,
   "metadata": {
    "collapsed": false
   },
   "outputs": [
    {
     "name": "stdout",
     "output_type": "stream",
     "text": []
    }
   ],
   "source": [
    "cd .."
   ]
  },
  {
   "cell_type": "code",
   "execution_count": 52,
   "metadata": {
    "collapsed": false
   },
   "outputs": [
    {
     "name": "stdout",
     "output_type": "stream",
     "text": [
      "/Users/rotsuji/desktop/sio-swc/data-shell\r\n"
     ]
    }
   ],
   "source": [
    "pwd"
   ]
  },
  {
   "cell_type": "markdown",
   "metadata": {},
   "source": [
    "If we try to remove the entire thesis directory using **rm thesis**, we get an error message:"
   ]
  },
  {
   "cell_type": "code",
   "execution_count": 53,
   "metadata": {
    "collapsed": false
   },
   "outputs": [
    {
     "name": "stdout",
     "output_type": "stream",
     "text": [
      "rm: thesis: is a directory\r\n"
     ]
    }
   ],
   "source": [
    "rm thesis"
   ]
  },
  {
   "cell_type": "markdown",
   "metadata": {},
   "source": [
    "rm: cannot remove `thesis': Is a directory\n",
    "\n",
    "This happens because rm only works on files, not directories. \n",
    "\n",
    "The right command is **rmdir**, which is short for “remove directory”. \n",
    "\n",
    "It doesn’t wrmdirpwdork yet either, though, because the directory we’re trying to remove isn’t empty:"
   ]
  },
  {
   "cell_type": "code",
   "execution_count": 54,
   "metadata": {
    "collapsed": false
   },
   "outputs": [
    {
     "name": "stdout",
     "output_type": "stream",
     "text": [
      "rmdir: thesis: Directory not empty\r\n"
     ]
    }
   ],
   "source": [
    "rmdir thesis"
   ]
  },
  {
   "cell_type": "markdown",
   "metadata": {},
   "source": [
    "rmdir: failed to remove `thesis': Directory not empty\n",
    "\n",
    "This little safety feature can save you a lot of grief, particularly if you are a bad typist. \n",
    "\n",
    "To really get rid of thesis we must first delete the file draft.txt:"
   ]
  },
  {
   "cell_type": "code",
   "execution_count": 55,
   "metadata": {
    "collapsed": false
   },
   "outputs": [
    {
     "name": "stdout",
     "output_type": "stream",
     "text": []
    }
   ],
   "source": [
    "rm thesis/draft.txt"
   ]
  },
  {
   "cell_type": "markdown",
   "metadata": {},
   "source": [
    "The directory is now empty, so rmdir can delete it:"
   ]
  },
  {
   "cell_type": "code",
   "execution_count": 56,
   "metadata": {
    "collapsed": false
   },
   "outputs": [
    {
     "name": "stdout",
     "output_type": "stream",
     "text": []
    }
   ],
   "source": [
    "rmdir thesis"
   ]
  },
  {
   "cell_type": "markdown",
   "metadata": {},
   "source": [
    "the directory should now be deleted, we can double check by running"
   ]
  },
  {
   "cell_type": "code",
   "execution_count": 57,
   "metadata": {
    "collapsed": false
   },
   "outputs": [
    {
     "name": "stdout",
     "output_type": "stream",
     "text": [
      "Desktop/\t\tmolecules/\t\tpizza.cfg\r\n",
      "creatures/\t\tnorth-pacific-gyre/\tsolar.pdf\r\n",
      "data/\t\t\tnotes.txt\t\twriting/\r\n"
     ]
    }
   ],
   "source": [
    "ls -F"
   ]
  },
  {
   "cell_type": "markdown",
   "metadata": {},
   "source": [
    "TIP: if you are sure you want to delete a directory and all it’s content you can use \n",
    "\n",
    "$rm - r [directory name]\n",
    "\n",
    "**This removes everything in the directory, then the directory itself. If the directory contains sub-directories, rm -r does the same thing to them, and so on. It’s very handy, but can do a lot of damage if used without care.**"
   ]
  },
  {
   "cell_type": "markdown",
   "metadata": {},
   "source": [
    "once more, Let’s create that directory and file one more time. \n",
    "\n",
    "(Note that this time we’re running nano with the path thesis/draft.txt, rather than going into the thesis directory and running nano on draft.txt there.)"
   ]
  },
  {
   "cell_type": "code",
   "execution_count": 59,
   "metadata": {
    "collapsed": false
   },
   "outputs": [
    {
     "name": "stdout",
     "output_type": "stream",
     "text": [
      "/Users/rotsuji/desktop/sio-swc/data-shell\r\n"
     ]
    }
   ],
   "source": [
    "pwd"
   ]
  },
  {
   "cell_type": "code",
   "execution_count": 60,
   "metadata": {
    "collapsed": false
   },
   "outputs": [
    {
     "name": "stdout",
     "output_type": "stream",
     "text": []
    }
   ],
   "source": [
    "mkdir thesis"
   ]
  },
  {
   "cell_type": "markdown",
   "metadata": {},
   "source": [
    "**$ nano (or notepad) thesis/draft.txt**"
   ]
  },
  {
   "cell_type": "code",
   "execution_count": 61,
   "metadata": {
    "collapsed": false
   },
   "outputs": [
    {
     "name": "stdout",
     "output_type": "stream",
     "text": [
      "draft.txt\r\n"
     ]
    }
   ],
   "source": [
    "ls thesis"
   ]
  },
  {
   "cell_type": "markdown",
   "metadata": {},
   "source": [
    "Since draft.txt  isn’t a particularly informative name, we are going to change the file’s name using **mv**, which is short for “move”"
   ]
  },
  {
   "cell_type": "markdown",
   "metadata": {},
   "source": [
    "**$ mv thesis/draft.txt thesis/quotes.txt**"
   ]
  },
  {
   "cell_type": "markdown",
   "metadata": {},
   "source": [
    "when we run the move command, the first parameter tells mv what we’re “moving”, while the second is where it’s to go. \n",
    "\n",
    "In this case, we’re moving thesis/draft.txt to thesis/quotes.txt, which has the same effect as renaming the file.\n",
    "\n",
    "\tlet’s check to make sure the file was renamed. "
   ]
  },
  {
   "cell_type": "code",
   "execution_count": 73,
   "metadata": {
    "collapsed": false
   },
   "outputs": [
    {
     "name": "stdout",
     "output_type": "stream",
     "text": [
      "quotes.txt\r\n"
     ]
    }
   ],
   "source": [
    "ls thesis"
   ]
  },
  {
   "cell_type": "markdown",
   "metadata": {},
   "source": [
    "Sure enough, ls shows us that thesis now contains one file called quotes.txt:\n",
    "\n",
    "**Caution:** One has to be careful when specifying the target file name, since mv will silently overwrite any existing file with the same name, which could lead to data loss. An additional flag, mv -i (or mv --interactive), can be used to make mv ask the user for confirmation before overwriting.\n",
    "\n",
    "\n",
    "Now let’s say we want to move the quotes.txt file into the current working directory.  We use mv once again, but this time we’ll just use the name of a directory as the second parameter to tell mv that we want to keep the filename, but put the file somewhere new. (This is why the command is called “move”.) In this case, the directory name we use is the special directory name . that we mentioned earlier..  \n"
   ]
  },
  {
   "cell_type": "code",
   "execution_count": 76,
   "metadata": {
    "collapsed": false
   },
   "outputs": [
    {
     "name": "stdout",
     "output_type": "stream",
     "text": []
    }
   ],
   "source": [
    "mv thesis/quotes.txt ."
   ]
  },
  {
   "cell_type": "markdown",
   "metadata": {},
   "source": [
    "The effect is to move the file from the directory it was in to the current working directory. ls now shows us that thesis is empty:"
   ]
  },
  {
   "cell_type": "code",
   "execution_count": 77,
   "metadata": {
    "collapsed": false
   },
   "outputs": [
    {
     "name": "stdout",
     "output_type": "stream",
     "text": []
    }
   ],
   "source": [
    "ls thesis"
   ]
  },
  {
   "cell_type": "markdown",
   "metadata": {},
   "source": [
    "Further, ls with a filename or directory name as a parameter only lists that file or directory. We can use this to see that quotes.txt is still in our current directory:"
   ]
  },
  {
   "cell_type": "code",
   "execution_count": 78,
   "metadata": {
    "collapsed": false
   },
   "outputs": [
    {
     "name": "stdout",
     "output_type": "stream",
     "text": [
      "quotes.txt\r\n"
     ]
    }
   ],
   "source": [
    "ls quotes.txt"
   ]
  },
  {
   "cell_type": "markdown",
   "metadata": {},
   "source": [
    "For the last part of this lesson we’ll be using the command **cp** to make a copy of a file.  \n",
    "\n",
    "The **cp** command works very much like **mv**, except it copies a file instead of moving it. \n",
    "\n"
   ]
  },
  {
   "cell_type": "code",
   "execution_count": 81,
   "metadata": {
    "collapsed": false
   },
   "outputs": [
    {
     "name": "stdout",
     "output_type": "stream",
     "text": []
    }
   ],
   "source": [
    "cp quotes.txt thesis/quotations.txt"
   ]
  },
  {
   "cell_type": "markdown",
   "metadata": {},
   "source": [
    "We can check that it did the right thing using **ls** with two paths as parameters\n"
   ]
  },
  {
   "cell_type": "code",
   "execution_count": 82,
   "metadata": {
    "collapsed": false
   },
   "outputs": [
    {
     "name": "stdout",
     "output_type": "stream",
     "text": [
      "quotes.txt\t\tthesis/quotations.txt\r\n"
     ]
    }
   ],
   "source": [
    "ls quotes.txt thesis/quotations.txt"
   ]
  },
  {
   "cell_type": "markdown",
   "metadata": {},
   "source": [
    "To prove that we made a copy, let’s delete the quotes.txt file in the current directory and then run that same ls again."
   ]
  },
  {
   "cell_type": "code",
   "execution_count": 83,
   "metadata": {
    "collapsed": false
   },
   "outputs": [
    {
     "name": "stdout",
     "output_type": "stream",
     "text": []
    }
   ],
   "source": [
    "rm quotes.txt"
   ]
  },
  {
   "cell_type": "code",
   "execution_count": 84,
   "metadata": {
    "collapsed": false
   },
   "outputs": [
    {
     "name": "stdout",
     "output_type": "stream",
     "text": [
      "ls: quotes.txt: No such file or directory\r\n",
      "thesis/quotations.txt\r\n"
     ]
    }
   ],
   "source": [
    "ls quotes.txt thesis/quotations.txt"
   ]
  },
  {
   "cell_type": "markdown",
   "metadata": {},
   "source": [
    "**Error: ls: cannot access quotes.txt: No such file or directory\n",
    "thesis/quotations.txt**\n",
    "\n",
    "This time it tells us that it can’t find quotes.txt in the current directory, but it does find the copy in thesis that we didn’t delete."
   ]
  },
  {
   "cell_type": "markdown",
   "metadata": {},
   "source": [
    "## CHALLENGE SET 2 - end of section"
   ]
  },
  {
   "cell_type": "markdown",
   "metadata": {},
   "source": [
    "http://swcarpentry.github.io/shell-novice/03-create/#renaming-files"
   ]
  },
  {
   "cell_type": "markdown",
   "metadata": {},
   "source": [
    "# Lesson 3:  Pipes and Filters\n",
    "* Redirect a command’s output to a file.\n",
    "* Process a file instead of keyboard input using redirection.\n",
    "* Construct command pipelines with two or more stages.\n",
    "* Explain what usually happens if a program or pipeline isn’t given any input to process.\n",
    "* Explain Unix’s “small pieces, loosely joined” philosophy.\n"
   ]
  },
  {
   "cell_type": "markdown",
   "metadata": {},
   "source": [
    "Now that we know a few basic commands, let’s take a look at the shell’s most powerful feature: the ease with which it lets us combine existing programs in new ways. \n",
    "\n",
    "We’ll start with a directory called molecules that contains six files describing some simple organic molecules. The .pdb extension indicates that these files are in Protein Data Bank format, a simple text format that specifies the type and position of each atom in the molecule.\n",
    "\n",
    "To get started, \n",
    "\n",
    "Make sure you are in the data-shell folder. if not navigate to the folder in the shell.  \n",
    "\n",
    "You can check by typing:"
   ]
  },
  {
   "cell_type": "code",
   "execution_count": 85,
   "metadata": {
    "collapsed": false
   },
   "outputs": [
    {
     "name": "stdout",
     "output_type": "stream",
     "text": [
      "/Users/rotsuji/desktop/sio-swc/data-shell\r\n"
     ]
    }
   ],
   "source": [
    "pwd"
   ]
  },
  {
   "cell_type": "code",
   "execution_count": 86,
   "metadata": {
    "collapsed": false
   },
   "outputs": [
    {
     "name": "stdout",
     "output_type": "stream",
     "text": [
      "Desktop/\t\tnorth-pacific-gyre/\tthesis/\r\n",
      "creatures/\t\tnotes.txt\t\twriting/\r\n",
      "data/\t\t\tpizza.cfg\r\n",
      "molecules/\t\tsolar.pdf\r\n"
     ]
    }
   ],
   "source": [
    "ls -F"
   ]
  },
  {
   "cell_type": "markdown",
   "metadata": {},
   "source": [
    "Change to the molecules directory."
   ]
  },
  {
   "cell_type": "code",
   "execution_count": 87,
   "metadata": {
    "collapsed": false
   },
   "outputs": [
    {
     "name": "stdout",
     "output_type": "stream",
     "text": []
    }
   ],
   "source": [
    "cd molecules"
   ]
  },
  {
   "cell_type": "markdown",
   "metadata": {},
   "source": [
    "Let’s go into that directory with cd and run the command wc *.pdb. \n",
    "\n",
    "wc is the “word count” command: it counts the number of lines, words, and characters in files."
   ]
  },
  {
   "cell_type": "code",
   "execution_count": 89,
   "metadata": {
    "collapsed": false
   },
   "outputs": [
    {
     "name": "stdout",
     "output_type": "stream",
     "text": [
      "      20     156    1158 cubane.pdb\r\n",
      "      12      84     622 ethane.pdb\r\n",
      "       9      57     422 methane.pdb\r\n",
      "      30     246    1828 octane.pdb\r\n",
      "      21     165    1226 pentane.pdb\r\n",
      "      15     111     825 propane.pdb\r\n",
      "     107     819    6081 total\r\n"
     ]
    }
   ],
   "source": [
    "wc *.pdb"
   ]
  },
  {
   "cell_type": "markdown",
   "metadata": {},
   "source": [
    "The **\\* in \\*.pdb** matches zero or more characters, so the shell turns*.pdb into a complete list of .pdb files:\n",
    "\n",
    "now, If we run **wc -l** instead of just **wc**, the output shows only the **number of lines** per file:"
   ]
  },
  {
   "cell_type": "code",
   "execution_count": 90,
   "metadata": {
    "collapsed": false
   },
   "outputs": [
    {
     "name": "stdout",
     "output_type": "stream",
     "text": [
      "      20 cubane.pdb\r\n",
      "      12 ethane.pdb\r\n",
      "       9 methane.pdb\r\n",
      "      30 octane.pdb\r\n",
      "      21 pentane.pdb\r\n",
      "      15 propane.pdb\r\n",
      "     107 total\r\n"
     ]
    }
   ],
   "source": [
    "wc -l *.pdb"
   ]
  },
  {
   "cell_type": "markdown",
   "metadata": {},
   "source": [
    "Which of these files is shortest? \n",
    "\n",
    "methane.pdb\n",
    "\n",
    "It’s an easy question to answer when there are only six files, but what if there were 6000? \n",
    "\n",
    "Our first step toward a solution is to run the command:\n"
   ]
  },
  {
   "cell_type": "code",
   "execution_count": 95,
   "metadata": {
    "collapsed": false
   },
   "outputs": [
    {
     "name": "stdout",
     "output_type": "stream",
     "text": []
    }
   ],
   "source": [
    "wc -l *.pdb > lengths.txt"
   ]
  },
  {
   "cell_type": "markdown",
   "metadata": {},
   "source": [
    "The **greater than symbol, >,** tells the shell to redirect the command’s output to a file instead of printing it to the screen. (This is why there is no screen output: everything that wc would have printed has gone into the file lengths.txt instead.) \n",
    "\n",
    "The shell will create the file if it doesn’t exist. If the file exists, it will be silently overwritten, which may lead to data loss and thus requires some caution. \n",
    "\n",
    "to confirm the file exists type:"
   ]
  },
  {
   "cell_type": "code",
   "execution_count": 96,
   "metadata": {
    "collapsed": false
   },
   "outputs": [
    {
     "name": "stdout",
     "output_type": "stream",
     "text": [
      "lengths.txt\r\n"
     ]
    }
   ],
   "source": [
    "ls lengths.txt"
   ]
  },
  {
   "cell_type": "markdown",
   "metadata": {},
   "source": [
    "We can now send the content of **lengths.txt** to the screen using **cat lengths.txt.** \n",
    "\n",
    "**cat stands for “concatenate”:** it prints the contents of files one after another. \n",
    "\n",
    "There’s only one file in this case, so cat just shows us what it contains:"
   ]
  },
  {
   "cell_type": "code",
   "execution_count": 97,
   "metadata": {
    "collapsed": false
   },
   "outputs": [
    {
     "name": "stdout",
     "output_type": "stream",
     "text": [
      "      20 cubane.pdb\r\n",
      "      12 ethane.pdb\r\n",
      "       9 methane.pdb\r\n",
      "      30 octane.pdb\r\n",
      "      21 pentane.pdb\r\n",
      "      15 propane.pdb\r\n",
      "     107 total\r\n"
     ]
    }
   ],
   "source": [
    "cat lengths.txt"
   ]
  },
  {
   "cell_type": "markdown",
   "metadata": {},
   "source": [
    "Now let’s use the **sort** command to sort its contents. \n",
    "\n",
    "We will also use the **-n flag** to specify that the **sort is numerical instead of alphabetical.** \n",
    "\n",
    "This does not change the file; instead, it sends the sorted result to the screen:\n"
   ]
  },
  {
   "cell_type": "code",
   "execution_count": 98,
   "metadata": {
    "collapsed": false
   },
   "outputs": [
    {
     "name": "stdout",
     "output_type": "stream",
     "text": [
      "       9 methane.pdb\r\n",
      "      12 ethane.pdb\r\n",
      "      15 propane.pdb\r\n",
      "      20 cubane.pdb\r\n",
      "      21 pentane.pdb\r\n",
      "      30 octane.pdb\r\n",
      "     107 total\r\n"
     ]
    }
   ],
   "source": [
    "sort -n lengths.txt"
   ]
  },
  {
   "cell_type": "markdown",
   "metadata": {},
   "source": [
    "We can put the sorted list of lines in another temporary file called **sorted-lengths.txt** by putting **> sorted-lengths.txt**  after the command, just as we used **> lengths.txt** to put the output of **wc** into **lengths.txt.**"
   ]
  },
  {
   "cell_type": "code",
   "execution_count": 99,
   "metadata": {
    "collapsed": false
   },
   "outputs": [
    {
     "name": "stdout",
     "output_type": "stream",
     "text": []
    }
   ],
   "source": [
    "sort -n lengths.txt > sorted-lengths.txt"
   ]
  },
  {
   "cell_type": "code",
   "execution_count": 100,
   "metadata": {
    "collapsed": false
   },
   "outputs": [
    {
     "name": "stdout",
     "output_type": "stream",
     "text": [
      "sorted-lengths.txt\r\n"
     ]
    }
   ],
   "source": [
    "ls sorted-lengths.txt"
   ]
  },
  {
   "cell_type": "markdown",
   "metadata": {},
   "source": [
    "Once we’ve done that, we can run another command called **head** to get the first few lines in **sorted-lengths.txt:**"
   ]
  },
  {
   "cell_type": "code",
   "execution_count": 101,
   "metadata": {
    "collapsed": false
   },
   "outputs": [
    {
     "name": "stdout",
     "output_type": "stream",
     "text": [
      "       9 methane.pdb\r\n"
     ]
    }
   ],
   "source": [
    "head -1 sorted-lengths.txt"
   ]
  },
  {
   "cell_type": "markdown",
   "metadata": {},
   "source": [
    "Using the parameter **-1** with **head** tells it that we only want the first line of the file; **-20** would get the first 20, and so on. \n",
    "\n",
    "Since **sorted-lengths.txt** contains the lengths of our files ordered from least to greatest, the output of **head** must be the file with the fewest lines.\n",
    "\n",
    "\tThis may be a little confusing to understand what’s going on. \n",
    "\n",
    "We can make it easier to understand by running **sort** and **head** together:"
   ]
  },
  {
   "cell_type": "code",
   "execution_count": 102,
   "metadata": {
    "collapsed": false
   },
   "outputs": [
    {
     "name": "stdout",
     "output_type": "stream",
     "text": [
      "       9 methane.pdb\r\n"
     ]
    }
   ],
   "source": [
    "sort -n lengths.txt | head -1"
   ]
  },
  {
   "cell_type": "markdown",
   "metadata": {},
   "source": [
    "Here we used the vertical bar between the two commands which is called a pipe. It tells the shell that we want to use the output of the command on the left as the input to the command on the right.\n",
    "\n",
    "Nothing prevents us from chaining pipes consecutively. \n",
    "\n",
    "for example send the output of wc directly tosort, and then the resulting output to head. Thus we first use a pipe to send the output of wc to sort:"
   ]
  },
  {
   "cell_type": "code",
   "execution_count": 103,
   "metadata": {
    "collapsed": false
   },
   "outputs": [
    {
     "name": "stdout",
     "output_type": "stream",
     "text": [
      "       9 methane.pdb\r\n",
      "      12 ethane.pdb\r\n",
      "      15 propane.pdb\r\n",
      "      20 cubane.pdb\r\n",
      "      21 pentane.pdb\r\n",
      "      30 octane.pdb\r\n",
      "     107 total\r\n"
     ]
    }
   ],
   "source": [
    "wc -l *.pdb | sort -n"
   ]
  },
  {
   "cell_type": "markdown",
   "metadata": {},
   "source": [
    "And now we send the output to this pipe, through another pipe, to head, so that the full pipeline becomes:"
   ]
  },
  {
   "cell_type": "code",
   "execution_count": 104,
   "metadata": {
    "collapsed": false
   },
   "outputs": [
    {
     "name": "stdout",
     "output_type": "stream",
     "text": [
      "       9 methane.pdb\r\n"
     ]
    }
   ],
   "source": [
    "wc -l *.pdb | sort -n | head -1"
   ]
  },
  {
   "cell_type": "markdown",
   "metadata": {},
   "source": [
    "** read explanation and review if necessary. use diagram from SWC lesson. \n",
    "\n",
    "Here’s what actually happens behind the scenes when we create a pipe. \n",
    "\n",
    "When a computer runs a program — any program — it creates a process in memory to hold the program’s software and its current state. \n",
    "\n",
    "Every process has an input channel called standard input. \n",
    "\n",
    "Every process also has a default output channel called standard output (or “stdout”).\n",
    "\n",
    "The shell is actually just another program. \n",
    "\n",
    "whatever we type on the keyboard is sent to the shell on its standard input, and whatever it produces on standard output is displayed on our screen. \n",
    "\n",
    "When we tell the shell to run a program, it creates a new process and temporarily sends whatever we type on our keyboard to that process’s standard input, and whatever the process sends to standard output to the screen.\n",
    "\n",
    "Here’s what happens when we run wc -l \\*.pdb > lengths.txt. The shell starts by telling the computer to create a new process to run the wc program. Since we’ve provided some filenames as parameters, wc reads from them instead of from standard input. And since we’ve used > to redirect output to a file, the shell connects the process’s standard output to that file.\n",
    "\n",
    "If we run wc -l \\*.pdb | sort -n instead, the shell creates two processes (one for each process in the pipe) so that wc and sort run simultaneously. \n",
    "\n",
    "The standard output of wc is fed directly to the standard input of sort; since there’s no redirection with >, sort’s output goes to the screen. \n",
    "\n",
    "And if we run wc -l \\*.pdb | sort -n | head -n 1, we get three processes with data flowing from the files, through wc to sort, and from sort through head to the screen.\n"
   ]
  },
  {
   "cell_type": "markdown",
   "metadata": {},
   "source": [
    "Remember **wc** and **sort** are **filters**."
   ]
  },
  {
   "cell_type": "markdown",
   "metadata": {},
   "source": [
    "## Challenge 3: Sort -n - Pipe reading comprehension "
   ]
  },
  {
   "cell_type": "markdown",
   "metadata": {},
   "source": [
    "#### Nelle’s Pipline:  Checking Files "
   ]
  },
  {
   "cell_type": "markdown",
   "metadata": {},
   "source": [
    "Now, if we want help our researcher Nelle to check the sample files in the north-pacific-gyre/2012-07-03 directory described earlier for odd files. we’ll start from our home directory,\n",
    "\n",
    "check your current directory:"
   ]
  },
  {
   "cell_type": "code",
   "execution_count": 107,
   "metadata": {
    "collapsed": false
   },
   "outputs": [
    {
     "name": "stdout",
     "output_type": "stream",
     "text": []
    }
   ],
   "source": [
    "cd north-pacific-gyre/2012-07-03"
   ]
  },
  {
   "cell_type": "markdown",
   "metadata": {},
   "source": [
    "navigate to **north-pacific-gyre/2012-07-03**"
   ]
  },
  {
   "cell_type": "code",
   "execution_count": 108,
   "metadata": {
    "collapsed": false
   },
   "outputs": [
    {
     "name": "stdout",
     "output_type": "stream",
     "text": [
      "/Users/rotsuji/desktop/sio-swc/data-shell/north-pacific-gyre/2012-07-03\r\n"
     ]
    }
   ],
   "source": [
    "pwd"
   ]
  },
  {
   "cell_type": "code",
   "execution_count": 109,
   "metadata": {
    "collapsed": false
   },
   "outputs": [
    {
     "name": "stdout",
     "output_type": "stream",
     "text": [
      "     300 NENE01729A.txt\r\n",
      "     300 NENE01729B.txt\r\n",
      "     300 NENE01736A.txt\r\n",
      "     300 NENE01751A.txt\r\n",
      "     300 NENE01751B.txt\r\n",
      "     300 NENE01812A.txt\r\n",
      "     300 NENE01843A.txt\r\n",
      "     300 NENE01843B.txt\r\n",
      "     300 NENE01971Z.txt\r\n",
      "     300 NENE01978A.txt\r\n",
      "     300 NENE01978B.txt\r\n",
      "     240 NENE02018B.txt\r\n",
      "     300 NENE02040A.txt\r\n",
      "     300 NENE02040B.txt\r\n",
      "     300 NENE02040Z.txt\r\n",
      "     300 NENE02043A.txt\r\n",
      "     300 NENE02043B.txt\r\n",
      "    5040 total\r\n"
     ]
    }
   ],
   "source": [
    "wc -l *.txt"
   ]
  },
  {
   "cell_type": "code",
   "execution_count": 111,
   "metadata": {
    "collapsed": false
   },
   "outputs": [
    {
     "name": "stdout",
     "output_type": "stream",
     "text": [
      "     240 NENE02018B.txt\r\n",
      "     300 NENE01729A.txt\r\n",
      "     300 NENE01729B.txt\r\n",
      "     300 NENE01736A.txt\r\n",
      "     300 NENE01751A.txt\r\n"
     ]
    }
   ],
   "source": [
    "wc -l *.txt | sort -n | head -5"
   ]
  },
  {
   "cell_type": "markdown",
   "metadata": {},
   "source": [
    "Whoops: one of the files is 60 lines shorter than the others. When she goes back and checks it, she sees that she did that assay at 8:00 on a Monday morning — someone was probably in using the machine on the weekend, and she forgot to reset it. Before re-running that sample, she checks to see if any files have too much data:"
   ]
  },
  {
   "cell_type": "code",
   "execution_count": 112,
   "metadata": {
    "collapsed": false
   },
   "outputs": [
    {
     "name": "stdout",
     "output_type": "stream",
     "text": [
      "     300 NENE02040B.txt\r\n",
      "     300 NENE02040Z.txt\r\n",
      "     300 NENE02043A.txt\r\n",
      "     300 NENE02043B.txt\r\n",
      "    5040 total\r\n"
     ]
    }
   ],
   "source": [
    "wc -l *.txt | sort -n | tail -5"
   ]
  },
  {
   "cell_type": "markdown",
   "metadata": {},
   "source": [
    "Those numbers look good — but what’s that ‘Z’ doing there in the third-to-last line? All of her samples should be marked ‘A’ or ‘B’; by convention, her lab uses ‘Z’ to indicate samples with missing information. To find others like it, she does this:"
   ]
  },
  {
   "cell_type": "code",
   "execution_count": 113,
   "metadata": {
    "collapsed": false
   },
   "outputs": [
    {
     "name": "stdout",
     "output_type": "stream",
     "text": [
      "NENE01971Z.txt\tNENE02040Z.txt\r\n"
     ]
    }
   ],
   "source": [
    "ls *Z.txt"
   ]
  },
  {
   "cell_type": "markdown",
   "metadata": {},
   "source": [
    "Sure enough, when she checks the log on her laptop, there’s no depth recorded for either of those samples. Since it’s too late to get the information any other way, she must exclude those two files from her analysis. "
   ]
  },
  {
   "cell_type": "markdown",
   "metadata": {},
   "source": [
    "##  Challenge 4:  Piping Commands together - end of section"
   ]
  },
  {
   "cell_type": "markdown",
   "metadata": {},
   "source": [
    "# Lesson 4:  Loops\n",
    "* Write a loop that applies one or more commands separately to each file in a set of files.\n",
    "* Trace the values taken on by a loop variable cpduring execution of the loop.\n",
    "* Explain the difference between a variable’s name and its value.\n",
    "* Explain why spaces and some punctuation characters shouldn’t be used in file names.\n",
    "* Demonstrate how to see what commands have recently been executed.\n",
    "* Re-run recently executed commands without retyping them.\n"
   ]
  },
  {
   "cell_type": "markdown",
   "metadata": {},
   "source": [
    "Loops are key to productivity improvements through automation as they allow us to execute commands repetitively. \n",
    "\n",
    "Similar to wildcards and tab completion, using loops also reduces the amount of typing (and typing mistakes). \n",
    "\n",
    "For the next example, we are going to use the  **creatures** directory which only has two example files (basilisk.dat and unicorn.dat), but keep in mind, the principles can be applied to several files at once."
   ]
  },
  {
   "cell_type": "code",
   "execution_count": 117,
   "metadata": {
    "collapsed": false
   },
   "outputs": [
    {
     "name": "stdout",
     "output_type": "stream",
     "text": [
      "/Users/rotsuji/desktop/sio-swc/data-shell\r\n"
     ]
    }
   ],
   "source": [
    "pwd"
   ]
  },
  {
   "cell_type": "code",
   "execution_count": 118,
   "metadata": {
    "collapsed": false
   },
   "outputs": [
    {
     "name": "stdout",
     "output_type": "stream",
     "text": []
    }
   ],
   "source": [
    "cd creatures"
   ]
  },
  {
   "cell_type": "markdown",
   "metadata": {},
   "source": [
    "Navigate to **creatures** directory"
   ]
  },
  {
   "cell_type": "code",
   "execution_count": 119,
   "metadata": {
    "collapsed": false
   },
   "outputs": [
    {
     "name": "stdout",
     "output_type": "stream",
     "text": [
      "/Users/rotsuji/desktop/sio-swc/data-shell/creatures\r\n"
     ]
    }
   ],
   "source": [
    "pwd"
   ]
  },
  {
   "cell_type": "markdown",
   "metadata": {},
   "source": [
    "What we are going to do now is modify these 2 files, but also save a version of the original files, then naming the copies (original-basilisk.dat and original-unicorn.dat).\n",
    "\n",
    "As an example of what we can’t do to make a copy and rename is:"
   ]
  },
  {
   "cell_type": "code",
   "execution_count": 120,
   "metadata": {
    "collapsed": false
   },
   "outputs": [
    {
     "name": "stdout",
     "output_type": "stream",
     "text": [
      "usage: cp [-R [-H | -L | -P]] [-fi | -n] [-apvX] source_file target_file\r\n",
      "       cp [-R [-H | -L | -P]] [-fi | -n] [-apvX] source_file ... target_directory\r\n"
     ]
    }
   ],
   "source": [
    "cp *.dat original-*.dat"
   ]
  },
  {
   "cell_type": "markdown",
   "metadata": {},
   "source": [
    "**$ cp \\*.dat original-\\*.dat**\n",
    "\tThis expands to: \n",
    "\n",
    "**$ cp basilisk.dat unicorn.dat original-\\*.dat**\n",
    "\n",
    "\tThis command is a problem because it wouldn’t backup our files, instead we get an error:\n",
    "\n",
    "cp: target `original-*.dat' is not a directory\n",
    "\n",
    "This problem arises when cp receives more than two inputs. \n",
    "\n",
    "When this happens, it expects the last input to be a directory where it can copy all the files it was passed. \n",
    "\n",
    "Since there is no directory named original-*.dat in the creatures directory we get an error."
   ]
  },
  {
   "cell_type": "code",
   "execution_count": 121,
   "metadata": {
    "collapsed": false
   },
   "outputs": [
    {
     "name": "stdout",
     "output_type": "stream",
     "text": [
      "usage: cp [-R [-H | -L | -P]] [-fi | -n] [-apvX] source_file target_file\r\n",
      "       cp [-R [-H | -L | -P]] [-fi | -n] [-apvX] source_file ... target_directory\r\n"
     ]
    }
   ],
   "source": [
    "cp basilisk.dat unicorn.dat original-*.dat"
   ]
  },
  {
   "cell_type": "markdown",
   "metadata": {},
   "source": [
    "What we can do is use a **Loop** to run an operation once for each item in a list to copy the files. "
   ]
  },
  {
   "cell_type": "markdown",
   "metadata": {},
   "source": [
    "Here is a simple example of a loop that displays the first 3 lines of each file in turn:"
   ]
  },
  {
   "cell_type": "code",
   "execution_count": 123,
   "metadata": {
    "collapsed": false
   },
   "outputs": [
    {
     "name": "stdout",
     "output_type": "stream",
     "text": [
      "COMMON NAME: basilisk\r\n",
      "CLASSIFICATION: basiliscus vulgaris\r\n",
      "UPDATED: 1745-05-02\r\n",
      "COMMON NAME: unicorn\r\n",
      "CLASSIFICATION: equus monoceros\r\n",
      "UPDATED: 1738-11-24\r\n"
     ]
    }
   ],
   "source": [
    "for filename in basilisk.dat unicorn.dat\n",
    "do\n",
    "head -n 3 $filename\n",
    "done"
   ]
  },
  {
   "cell_type": "markdown",
   "metadata": {},
   "source": [
    "Before I explain what the loop is doing, I want to point out the change in the shell prompt from $ to >  and back again as we were typing the loop. \n",
    "\n",
    "The second prompt >,  is there to remind us that the command is not complete yet.  A semicolon, can be used to separate two commands written on a single line.\n",
    "\n",
    "Also, to exit an incomplete loop command use **control - c** to return to the prompt.\n",
    "\n",
    "Now, let me explain what the shell is doing.  \n"
   ]
  },
  {
   "cell_type": "markdown",
   "metadata": {},
   "source": [
    "When this loop is executed, the shell sees the keyword for, it knows it is supposed to repeat a command (or group of commands) once for each of the 2 items in the creatures folder in a list.\n",
    "\n",
    "Each time through the loop, the name of the thing currently being operated on is assigned to the variable called filename. Inside the loop, we get the variable’s value by putting $ in front of it: $filename is basilisk.dat the first time through the loop, unicorn.dat the second, and so on.\n",
    "\n",
    "using the dollar sign we are telling the shell interpreter to treat filename as a variable name and substitute its value on its place, but not as some text or external command. When using variables it is also possible to put the names into curly braces to clearly delimit the variable name: $filename is equivalent to ${filename}, but is different from ${file}name. You may find this notation in other people’s programs.\n",
    "\n",
    "Finally, the command that’s actually being run is our old friend head, so this loop prints out the first three lines of each data file in turn.\n",
    "\n",
    "Looking at the loop again, we have called the variable in this loop filename in order to make its purpose clearer to human readers. The shell itself doesn’t care what the variable is called; if we wrote this loop as:\n"
   ]
  },
  {
   "cell_type": "markdown",
   "metadata": {},
   "source": [
    "for x in basilisk.dat unicorn.dat\n",
    "do\n",
    "\n",
    "or \n",
    "\n",
    "for temperature in basilisk.dat unicorn.dat\n",
    "do\n",
    "    head -n 3 $temperature\n",
    "done\n"
   ]
  },
  {
   "cell_type": "markdown",
   "metadata": {},
   "source": [
    "These examples would work the same, but now that I have shown you an example, **do not do this.** Other people need to understand the variables. \n",
    "\n",
    "In this example, meaningless names (like x) or misleading names (like temperature) increase the odds that the program won’t do what its readers think it does.\t"
   ]
  },
  {
   "cell_type": "markdown",
   "metadata": {},
   "source": [
    "### Challenge 5: Variables in Loops"
   ]
  },
  {
   "cell_type": "markdown",
   "metadata": {},
   "source": [
    "Let's write a more coplicated loop"
   ]
  },
  {
   "cell_type": "code",
   "execution_count": 145,
   "metadata": {
    "collapsed": false
   },
   "outputs": [
    {
     "name": "stdout",
     "output_type": "stream",
     "text": [
      "CGGTACCGAA\r\n",
      "AAGGGTCGCG\r\n",
      "CAAGTGTTCC\r\n",
      "CGGGACAATA\r\n",
      "GTTCTGCTAA\r\n",
      "GATAAGTATG\r\n",
      "TGCCGACTTA\r\n",
      "CCCGACCGTC\r\n",
      "TAGGTTATAA\r\n",
      "GGCACAACCG\r\n",
      "CTTCACTGTA\r\n",
      "GAGGTGTACA\r\n",
      "AGGATCCGTT\r\n",
      "GCGCGGGCGG\r\n",
      "CAGTCTATGT\r\n",
      "TTTTCGACAC\r\n",
      "TGGACTGCTT\r\n",
      "CCCTTTGAGG\r\n",
      "GTGGATTTTT\r\n",
      "CGTAACGGGT\r\n"
     ]
    }
   ],
   "source": [
    "For filename in *.dat\n",
    "do \n",
    "echo $filename\n",
    "head -n 100 $filename | tail -n 20\n"
   ]
  },
  {
   "cell_type": "markdown",
   "metadata": {},
   "source": [
    "The shell starts by expanding *.dat to create the list of files it will process. \n",
    "\n",
    "The **loop body** then executes two commands for each of those files. \n",
    "\n",
    "The first, echo, just prints its command-line parameters to standard output. For example if we typed:\n"
   ]
  },
  {
   "cell_type": "code",
   "execution_count": 146,
   "metadata": {
    "collapsed": false
   },
   "outputs": [
    {
     "name": "stdout",
     "output_type": "stream",
     "text": [
      "hello there\r\n"
     ]
    }
   ],
   "source": [
    "echo hello there"
   ]
  },
  {
   "cell_type": "markdown",
   "metadata": {},
   "source": [
    "The Shell will print: hello there\n",
    "\n",
    "In this case, since the shell expands $filename to be the name of a file, echo $filename just prints the name of the file. "
   ]
  },
  {
   "cell_type": "markdown",
   "metadata": {},
   "source": [
    "Note that we can’t write this as:\n"
   ]
  },
  {
   "cell_type": "markdown",
   "metadata": {},
   "source": [
    "for filename in *.dat\n",
    "do\n",
    "    $filename\n",
    "    head -n 100 $filename | tail -n 20\n",
    "Done\n"
   ]
  },
  {
   "cell_type": "markdown",
   "metadata": {},
   "source": [
    "because then the first time through the loop, when $filename expanded to basilisk.dat, the shell would try to run basilisk.dat as a program. \n",
    "\n",
    "Finally, the head and tail combination selects lines 81-100 from whatever file is being processed"
   ]
  },
  {
   "cell_type": "markdown",
   "metadata": {},
   "source": [
    "**Explain why spaces should not be used in filenames.**\n",
    "\n",
    "E.g. red dramgon.dat \n",
    "\n",
    "for filename in *.dat<P>\n",
    "do<p>\n",
    "&nbsp;&nbsp;&nbsp;&nbsp;&nbsp;&nbsp; head -n 100 $filename | tail -n 20 <p>\n",
    "done\n",
    "\n",
    "then the shell will expand *.dat to create:\n",
    "\n",
    "basilisk.dat red dragon.dat unicorn.dat\n",
    "\n",
    "With older versions of Bash, or most other shells, filename will then be assigned the following values in turn: the **space** will split the file name. \n",
    "\n",
    "basilisk.dat\n",
    "\n",
    "red\n",
    "\n",
    "dragon.dat\n",
    "\n",
    "unicorn.dat\n",
    "\n",
    "That’s a problem: **head** can’t read files called **red** and **dragon.dat** because they don’t exist, and won’t be asked to read the file red dragon.dat.\n",
    "\n",
    "We can make our script a little bit more robust by **quoting** our use of the variable:\n",
    "\n",
    "**but it’s simpler just to avoid using spaces (or other special characters) in filenames**\n",
    "\n"
   ]
  },
  {
   "cell_type": "markdown",
   "metadata": {},
   "source": [
    "Going back to our original file copying problem, we can solve it using this loop:"
   ]
  },
  {
   "cell_type": "code",
   "execution_count": 149,
   "metadata": {
    "collapsed": false
   },
   "outputs": [
    {
     "name": "stdout",
     "output_type": "stream",
     "text": []
    }
   ],
   "source": [
    "for filename in *.dat\n",
    "do\n",
    "cp $filename original-$filename\n",
    "done"
   ]
  },
  {
   "cell_type": "code",
   "execution_count": 151,
   "metadata": {
    "collapsed": false,
    "scrolled": true
   },
   "outputs": [
    {
     "name": "stdout",
     "output_type": "stream",
     "text": [
      "basilisk.dat\t\toriginal-unicorn.dat\r\n",
      "original-basilisk.dat\tunicorn.dat\r\n"
     ]
    }
   ],
   "source": [
    "ls -F"
   ]
  },
  {
   "cell_type": "markdown",
   "metadata": {},
   "source": [
    "This loop runs the **cp** command once for each filename. \n",
    "\n",
    "The first time, when **$filename** expands to **basilisk.dat**, the shell executes:\n",
    "\n",
    "\n",
    "**cp basilisk.dat original-basilisk.dat**\n",
    "\n",
    "The second time, the command is:\n",
    "\n",
    "**cp unicorn.dat original-unicorn.dat**\n",
    "\n",
    "Loop flow chart example:  http://swcarpentry.github.io/shell-novice/fig/shell_script_for_loop_flow_chart.svg\n"
   ]
  },
  {
   "cell_type": "markdown",
   "metadata": {},
   "source": [
    "## Nelle’s Pipeline: Processing Files"
   ]
  },
  {
   "cell_type": "markdown",
   "metadata": {},
   "source": [
    "Let’s now think about our researcher, Nelle’s, Pipeline for processing files \n",
    "\n",
    "Since she’s still learning how to use the shell, she decides to build up the required commands in stages. Her first step is to make sure that she can select the right files — remember, these are ones whose names end in ‘A’ or ‘B’, rather than ‘Z’. \n",
    "\n",
    "Starting from her home directory, Nelle types:\n"
   ]
  },
  {
   "cell_type": "code",
   "execution_count": 152,
   "metadata": {
    "collapsed": false
   },
   "outputs": [
    {
     "name": "stdout",
     "output_type": "stream",
     "text": [
      "/Users/rotsuji/desktop/sio-swc/data-shell/creatures\r\n"
     ]
    }
   ],
   "source": [
    "pwd"
   ]
  },
  {
   "cell_type": "code",
   "execution_count": 153,
   "metadata": {
    "collapsed": false
   },
   "outputs": [
    {
     "name": "stdout",
     "output_type": "stream",
     "text": []
    }
   ],
   "source": [
    "cd .."
   ]
  },
  {
   "cell_type": "code",
   "execution_count": 154,
   "metadata": {
    "collapsed": false
   },
   "outputs": [
    {
     "name": "stdout",
     "output_type": "stream",
     "text": []
    }
   ],
   "source": [
    "cd north-pacific-gyre/2012-07-03"
   ]
  },
  {
   "cell_type": "code",
   "execution_count": 155,
   "metadata": {
    "collapsed": false
   },
   "outputs": [
    {
     "name": "stdout",
     "output_type": "stream",
     "text": [
      "/Users/rotsuji/desktop/sio-swc/data-shell/north-pacific-gyre/2012-07-03\r\n"
     ]
    }
   ],
   "source": [
    "pwd"
   ]
  },
  {
   "cell_type": "code",
   "execution_count": 159,
   "metadata": {
    "collapsed": false
   },
   "outputs": [
    {
     "name": "stdout",
     "output_type": "stream",
     "text": [
      "NENE01729A.txt\r\n",
      "NENE01729B.txt\r\n",
      "NENE01736A.txt\r\n",
      "NENE01751A.txt\r\n",
      "NENE01751B.txt\r\n",
      "NENE01812A.txt\r\n",
      "NENE01843A.txt\r\n",
      "NENE01843B.txt\r\n",
      "NENE01978A.txt\r\n",
      "NENE01978B.txt\r\n",
      "NENE02018B.txt\r\n",
      "NENE02040A.txt\r\n",
      "NENE02040B.txt\r\n",
      "NENE02043A.txt\r\n",
      "NENE02043B.txt\r\n"
     ]
    }
   ],
   "source": [
    "for datafile in *[AB].txt\n",
    "do\n",
    "echo $datafile\n",
    "done"
   ]
  },
  {
   "cell_type": "markdown",
   "metadata": {},
   "source": [
    "Running this loop she now sees the output:\n",
    "\n",
    "\tNENE01729A.txt\n",
    "\tNENE01729B.txt\n",
    "\tNENE01736A.txt\n",
    "\t...\n",
    "\tNENE02043A.txt\n",
    "\tNENE02043B.txt\n"
   ]
  },
  {
   "cell_type": "markdown",
   "metadata": {},
   "source": [
    "Her next step is to decide what to call the files that the goostats analysis program will create. \n",
    "\n",
    "Prefixing each input file’s name with “stats” seems simple, so she modifies her loop to do that:"
   ]
  },
  {
   "cell_type": "code",
   "execution_count": 160,
   "metadata": {
    "collapsed": false
   },
   "outputs": [
    {
     "name": "stdout",
     "output_type": "stream",
     "text": [
      "NENE01729A.txt stats-NENE01729A.txt\r\n",
      "NENE01729B.txt stats-NENE01729B.txt\r\n",
      "NENE01736A.txt stats-NENE01736A.txt\r\n",
      "NENE01751A.txt stats-NENE01751A.txt\r\n",
      "NENE01751B.txt stats-NENE01751B.txt\r\n",
      "NENE01812A.txt stats-NENE01812A.txt\r\n",
      "NENE01843A.txt stats-NENE01843A.txt\r\n",
      "NENE01843B.txt stats-NENE01843B.txt\r\n",
      "NENE01978A.txt stats-NENE01978A.txt\r\n",
      "NENE01978B.txt stats-NENE01978B.txt\r\n",
      "NENE02018B.txt stats-NENE02018B.txt\r\n",
      "NENE02040A.txt stats-NENE02040A.txt\r\n",
      "NENE02040B.txt stats-NENE02040B.txt\r\n",
      "NENE02043A.txt stats-NENE02043A.txt\r\n",
      "NENE02043B.txt stats-NENE02043B.txt\r\n"
     ]
    }
   ],
   "source": [
    "for datafile in *[AB].txt\n",
    "do\n",
    "echo $datafile stats-$datafile\n",
    "done"
   ]
  },
  {
   "cell_type": "markdown",
   "metadata": {},
   "source": [
    "The loop produces the output:\n",
    "\n",
    "\tNENE01729A.txt stats-NENE01729A.txt\n",
    "\tNENE01729B.txt stats-NENE01729B.txt\n",
    "\tNENE01736A.txt stats-NENE01736A.txt\n",
    "\t...\n",
    "\tNENE02043A.txt stats-NENE02043A.txt\n",
    "\tNENE02043B.txt stats-NENE02043B.txt\n"
   ]
  },
  {
   "cell_type": "markdown",
   "metadata": {},
   "source": [
    "She hasn’t actually run goostats yet, but now she’s sure she can select the right files and generate the right output filenames.\n",
    "\n",
    "Typing in commands over and over again is becoming tedious, though, and Nelle is worried about making mistakes, so instead of re-entering her loop, she presses the up arrow. \n",
    "\n",
    "In response, the shell redisplays the whole loop on one line (using semi-colons to separate the pieces):\n"
   ]
  },
  {
   "cell_type": "code",
   "execution_count": 161,
   "metadata": {
    "collapsed": false
   },
   "outputs": [
    {
     "name": "stdout",
     "output_type": "stream",
     "text": [
      "NENE01729A.txt stats-NENE01729A.txt\r\n",
      "NENE01729B.txt stats-NENE01729B.txt\r\n",
      "NENE01736A.txt stats-NENE01736A.txt\r\n",
      "NENE01751A.txt stats-NENE01751A.txt\r\n",
      "NENE01751B.txt stats-NENE01751B.txt\r\n",
      "NENE01812A.txt stats-NENE01812A.txt\r\n",
      "NENE01843A.txt stats-NENE01843A.txt\r\n",
      "NENE01843B.txt stats-NENE01843B.txt\r\n",
      "NENE01978A.txt stats-NENE01978A.txt\r\n",
      "NENE01978B.txt stats-NENE01978B.txt\r\n",
      "NENE02018B.txt stats-NENE02018B.txt\r\n",
      "NENE02040A.txt stats-NENE02040A.txt\r\n",
      "NENE02040B.txt stats-NENE02040B.txt\r\n",
      "NENE02043A.txt stats-NENE02043A.txt\r\n",
      "NENE02043B.txt stats-NENE02043B.txt\r\n"
     ]
    }
   ],
   "source": [
    "for datafile in *[AB].txt; do echo $datafile stats-$datafile; done"
   ]
  },
  {
   "cell_type": "markdown",
   "metadata": {},
   "source": [
    "Using the left arrow key, Nelle backs up and changes the command echo to bash goostats:"
   ]
  },
  {
   "cell_type": "markdown",
   "metadata": {},
   "source": [
    "for datafile in \\*[AB].txt; do bash goostats $datafile stats-$datafile; done"
   ]
  },
  {
   "cell_type": "markdown",
   "metadata": {},
   "source": [
    "When she presses Enter, the shell runs the modified command. However, nothing appears to happen — there is no output. \n",
    "\n",
    "After a moment, Nelle realizes that since her script doesn’t print anything to the screen any longer, she has no idea whether it is running, much less how quickly. \n",
    "\n",
    "She kills the running command by typing Ctrl-C, uses up-arrow to repeat the command, and edits it to read:\n"
   ]
  },
  {
   "cell_type": "code",
   "execution_count": 165,
   "metadata": {
    "collapsed": false
   },
   "outputs": [
    {
     "name": "stdout",
     "output_type": "stream",
     "text": [
      "\r\n"
     ]
    }
   ],
   "source": [
    "for datafile in *[AB].txt; \n",
    "do echo $datafile; bash goostats $datafile stats-$datafile; done"
   ]
  },
  {
   "cell_type": "markdown",
   "metadata": {},
   "source": [
    "When she runs her program now, it produces one line of output every five seconds or so:\n",
    "\n",
    "\tNENE01729A.txt\n",
    "\tNENE01729B.txt\n",
    "\tNENE01736A.txt\n",
    "\t…\n",
    "1518 times 5 seconds, divided by 60, tells her that her script will take about two hours to run. \n",
    "\n",
    "As a final check, she opens another terminal window, goes into north-pacific-gyre/2012-07-03, and uses cat stats-NENE01729B.txt to examine one of the output files. \n",
    "\n",
    "\n",
    "It looks good, so she decides to get some coffee and catch up on her reading.\n"
   ]
  },
  {
   "cell_type": "code",
   "execution_count": 168,
   "metadata": {
    "collapsed": false
   },
   "outputs": [
    {
     "name": "stdout",
     "output_type": "stream",
     "text": [
      "0.529201331561\r\n",
      "0.646620295293\r\n",
      "1.03149902331\r\n"
     ]
    }
   ],
   "source": [
    "cat stats-NENE01729B.txt"
   ]
  },
  {
   "cell_type": "markdown",
   "metadata": {},
   "source": [
    "### Loop TIPS:\n",
    "\n",
    "History command\n",
    "Another way to repeat previous work is to use the history command to get a list of the last few hundred commands that have been executed, and then to use !123 (where “123” is replaced by the command number) to repeat one of those commands. For example, if Nelle types this:\n"
   ]
  },
  {
   "cell_type": "code",
   "execution_count": 167,
   "metadata": {
    "collapsed": false
   },
   "outputs": [
    {
     "name": "stdout",
     "output_type": "stream",
     "text": [
      "  906  for datafile in *[AB].txt; do echo $datafile; bash goostats $datafile stats-$datafile; done\r\n",
      "  907  for datafile in *[AB].txt; do echo $datafile; bash goostats $datafile stats-$datafile; done\r\n",
      "  908  $ history | tail -n 5\r\n",
      "  909  echo $?\r\n",
      "  910  history | tail -n 5\r\n"
     ]
    }
   ],
   "source": [
    "history | tail -n 5"
   ]
  },
  {
   "cell_type": "markdown",
   "metadata": {},
   "source": [
    "## Challenge 6: Saving to a file in a Loop - Part One"
   ]
  },
  {
   "cell_type": "markdown",
   "metadata": {},
   "source": [
    "You are working with files in the same directory, what is the effect of this loop?\n",
    "\n",
    "```bash\n",
    "for sugar in *.dat\n",
    "do\n",
    "    echo $sugar\n",
    "    cat $sugar > xylose.dat\n",
    "done\n",
    "```\n",
    "\n",
    "\n",
    "\n",
    "1. Prints fructose.dat, glucose.dat, and sucrose.dat, and the text from sucrose.dat will be saved to a file called xylose.dat.\n",
    "\n",
    "2. Prints fructose.dat, glucose.dat, and sucrose.dat, and the text from all three files would be concatenated and saved to a file called xylose.dat.\n",
    "\n",
    "3. Prints fructose.dat, glucose.dat, sucrose.dat, and xylose.dat, and the text from sucrose.dat will be saved to a file called xylose.dat.\n",
    "\n",
    "4. None of the above."
   ]
  },
  {
   "cell_type": "markdown",
   "metadata": {},
   "source": [
    "# Lesson 5: Shell Scripts"
   ]
  },
  {
   "cell_type": "markdown",
   "metadata": {},
   "source": [
    "* Write a shell script that runs a command or series of commands for a fixed set of files.\n",
    "* Run a shell script from the command line.\n",
    "* Write a shell script that operates on a set of files defined by the user on the command line.\n",
    "* Create pipelines that include shell scripts you, and others, have written.\n"
   ]
  },
  {
   "cell_type": "markdown",
   "metadata": {},
   "source": [
    "We are finally ready to see what makes the shell such a powerful programming environment. \n",
    "\n",
    "We are going to take the commands we repeat frequently and save them in files so that we can re-run all those operations again later by typing a single command. \n",
    "\n",
    "For historical reasons, a bunch of commands saved in a file is usually called a **shell script**, but make no mistake: these are actually small programs.\n",
    "\n",
    "Let’s start by going back to **molecules/** and putting the following line in the script file **middle.sh** we are going to create. \n"
   ]
  },
  {
   "cell_type": "markdown",
   "metadata": {},
   "source": [
    "start by typing **pwd** to see our current working directory"
   ]
  },
  {
   "cell_type": "code",
   "execution_count": 178,
   "metadata": {
    "collapsed": false
   },
   "outputs": [
    {
     "name": "stdout",
     "output_type": "stream",
     "text": [
      "/Users/rotsuji/desktop/sio-swc/data-shell\r\n"
     ]
    }
   ],
   "source": [
    "pwd"
   ]
  },
  {
   "cell_type": "markdown",
   "metadata": {},
   "source": [
    "Navigate to the **workshop/data-shell/molecules** folder"
   ]
  },
  {
   "cell_type": "code",
   "execution_count": 179,
   "metadata": {
    "collapsed": false
   },
   "outputs": [
    {
     "name": "stdout",
     "output_type": "stream",
     "text": []
    }
   ],
   "source": [
    "cd molecules"
   ]
  },
  {
   "cell_type": "code",
   "execution_count": 180,
   "metadata": {
    "collapsed": false
   },
   "outputs": [
    {
     "name": "stdout",
     "output_type": "stream",
     "text": [
      "/Users/rotsuji/desktop/sio-swc/data-shell/molecules\r\n"
     ]
    }
   ],
   "source": [
    "pwd"
   ]
  },
  {
   "cell_type": "markdown",
   "metadata": {},
   "source": [
    "let’s create the script file called **middle.sh** by using a text editor:"
   ]
  },
  {
   "cell_type": "markdown",
   "metadata": {},
   "source": [
    "```bash\n",
    "$ nano (or notepad) middle.sh\n",
    "\n",
    "```"
   ]
  },
  {
   "cell_type": "markdown",
   "metadata": {},
   "source": [
    "The command nano middle.sh opens the file middle.sh within the text editor “nano” (which runs within the shell). \n",
    "\n",
    "If the file does not exist, it will be created. \n",
    "\n",
    "We can use the text editor to directly edit the file. \n",
    "\n",
    "note that Shell script files end in .sh "
   ]
  },
  {
   "cell_type": "markdown",
   "metadata": {},
   "source": [
    "In the script file type the line:\n",
    "\n",
    "**head -15 octane.pdb | tail -5**\n"
   ]
  },
  {
   "cell_type": "markdown",
   "metadata": {},
   "source": [
    "This is a variation on the pipe we constructed earlier: it selects lines 11-15 of the file **octane.pdb.** \n",
    "\n",
    "Remember, we are not running it as a command just yet: we are putting the commands in a file.\n",
    "\n",
    "now save the middle.sh file.  \n",
    "\n",
    "in nano save the file (using CTRL-O), and exit the text editor (using CTRL-X)\n",
    "\n",
    "Once we have saved the file, we can ask the shell to execute the commands it contains. Our shell is called **bash**, so we run the following command:\n"
   ]
  },
  {
   "cell_type": "markdown",
   "metadata": {},
   "source": [
    "```bash\n",
    "$ bash middle.sh\n",
    "```"
   ]
  },
  {
   "cell_type": "markdown",
   "metadata": {},
   "source": [
    "The script’s output is exactly what we would get if we ran that pipeline directly"
   ]
  },
  {
   "cell_type": "markdown",
   "metadata": {},
   "source": [
    "##### Variable in scripts\n",
    "\n",
    "Now, What if we want to select lines from an arbitrary file? \n",
    "\n",
    "We could edit middle.sh each time to change the filename, but that would probably take longer than just retyping the command. \n",
    "\n",
    "Instead, let’s edit ***middle.sh*** and replace ***octane.pdb*** with a special variable called ***$1:***\n"
   ]
  },
  {
   "cell_type": "markdown",
   "metadata": {},
   "source": [
    "*** to edit the script file type: ***\n",
    "\n",
    "```bash\n",
    "$ nano (or notepad) middle.sh\n",
    "\n",
    "```\n",
    "\n",
    "In the script file lets replace octane.pdb with the special variable ***$1***\n",
    "\n",
    "***head -15 \"$1\" | tail -5***\n",
    "\n",
    "Inside a shell script, ***$1*** basically means ***“the first filename (or other parameter) on the command line”.***  \n",
    "\n",
    "We put the ***$1*** inside of double-quotes in case the filename happens to contain any spaces. \n",
    "\n",
    "as we know from the data management lecture best practices, do not use spaces in filenames.\n"
   ]
  },
  {
   "cell_type": "markdown",
   "metadata": {},
   "source": [
    "We can now run our script like this:\n",
    "\n",
    "```bash\n",
    "$ bash middle.sh octane.pdb\n",
    "```\n",
    "\n",
    "\n"
   ]
  },
  {
   "cell_type": "markdown",
   "metadata": {},
   "source": [
    "or on another file by typing:\n",
    "```bash\n",
    "$ bash middle.sh pentane.pdb\n",
    "```"
   ]
  },
  {
   "cell_type": "markdown",
   "metadata": {},
   "source": [
    "To enhance our script:\n",
    "We still need to edit **middle.sh** each time we want to adjust the range of lines, though. Let’s fix that by using the special variables ** \\$2 and $3:**\n"
   ]
  },
  {
   "cell_type": "markdown",
   "metadata": {},
   "source": [
    "```bash\n",
    "$ nano (or notepad) middle.sh \n",
    "```\n",
    "\n",
    "edit the file by **replacing -15 with “\\$2” and -5 with “\\$3”**\n",
    "\n",
    "\n"
   ]
  },
  {
   "cell_type": "markdown",
   "metadata": {},
   "source": [
    "modify the line to read:  **head \"\\$2\" \"\\$1\" | tail \"\\$3\"**\n",
    "\n",
    "run the script by typing: \n",
    "\n",
    "```bash\n",
    "$ bash middle.sh pentane.pdb -20 -5\n",
    "```\n",
    "\n"
   ]
  },
  {
   "cell_type": "markdown",
   "metadata": {},
   "source": [
    "Our script works,  but it may take the next person who reads middle.sh a moment to figure out what it does. \n",
    "\n",
    "it is good practice to add some **comments** at the top of the script:\n",
    "\n",
    "open the script file again in the editor. \n"
   ]
  },
  {
   "cell_type": "markdown",
   "metadata": {},
   "source": [
    "```bash\n",
    "$ nano (or notepad) middle.sh \n",
    "```\n",
    "\n",
    "\n",
    "\n",
    "\n",
    "** A comment starts with a # character and runs to the end of the line. **\n",
    "\n",
    "type in the comment:\n",
    "\n",
    "** # Select lines from the middle of a file.**\n",
    "\n",
    "**# Usage: middle.sh filename -end_line -num_lines **\n",
    "\n",
    "The computer ignores comments, but they’re invaluable for helping people understand and use scripts.\n",
    "\n",
    "save the file. \n",
    "\n"
   ]
  },
  {
   "cell_type": "markdown",
   "metadata": {},
   "source": [
    "#### Processing many files\n",
    "\n",
    "What if we want to process many files in a single pipeline? \n",
    "\n",
    "For example, if we want to sort our .pdb files by length, we would type:\n",
    "\n",
    "check to make sure you are still in the molecules folder:\n"
   ]
  },
  {
   "cell_type": "code",
   "execution_count": 183,
   "metadata": {
    "collapsed": false
   },
   "outputs": [
    {
     "name": "stdout",
     "output_type": "stream",
     "text": [
      "/Users/rotsuji/desktop/sio-swc/data-shell/molecules\r\n"
     ]
    }
   ],
   "source": [
    "pwd"
   ]
  },
  {
   "cell_type": "code",
   "execution_count": 182,
   "metadata": {
    "collapsed": false
   },
   "outputs": [
    {
     "name": "stdout",
     "output_type": "stream",
     "text": [
      "       9 methane.pdb\r\n",
      "      12 ethane.pdb\r\n",
      "      15 propane.pdb\r\n",
      "      20 cubane.pdb\r\n",
      "      21 pentane.pdb\r\n",
      "      30 octane.pdb\r\n",
      "     107 total\r\n"
     ]
    }
   ],
   "source": [
    "wc -l *.pdb | sort -n"
   ]
  },
  {
   "cell_type": "markdown",
   "metadata": {},
   "source": [
    "because **wc -l** lists the number of lines in the files (recall that **wc stands for ‘word count’**, adding the **-l flag means ‘count lines’** instead) and **sort -n sorts things numerically**. \n",
    "\n",
    "We could put this in a file, but then it would only ever sort a list of**.pdb** files in the current directory. \n",
    "\n",
    "If we want to be able to get a sorted list of other kinds of files, we need a way to get all those names into the script. We can’t use **\\$1**, **\\$2**, and so on because we don’t know how many files there are. \n",
    "\n",
    "\n",
    " Instead, we use the special variable **\\$@**, which means, **“All of the command-line parameters to the shell script.”** We also should put **\\$@** inside double-quotes to handle the case of parameters containing spaces **(\"\\$@\" is equivalent to \"\\$1\" \"\\$2\" …)**\n",
    "\n"
   ]
  },
  {
   "cell_type": "markdown",
   "metadata": {},
   "source": [
    "**create the script file sorted.sh**"
   ]
  },
  {
   "cell_type": "markdown",
   "metadata": {},
   "source": [
    "```bash\n",
    "$ nano sorted.sh\n",
    "```"
   ]
  },
  {
   "cell_type": "markdown",
   "metadata": {},
   "source": [
    "add the line: \n",
    "\n",
    "**wc -l \"\\$@\" | sort -n**\n",
    "\n",
    "Save the file.\n",
    "\n",
    "run the script:\n"
   ]
  },
  {
   "cell_type": "markdown",
   "metadata": {},
   "source": [
    "```bash\n",
    "$ bash sorted.sh *.pdb ../creatures/*.dat\n",
    "```\n",
    "\n"
   ]
  },
  {
   "cell_type": "markdown",
   "metadata": {},
   "source": [
    "We have two more things to do before we’re finished with our simple shell scripts. If you look at a script like the one we just created:\n"
   ]
  },
  {
   "cell_type": "markdown",
   "metadata": {},
   "source": [
    "```bash\n",
    "$ cat sorted.sh\n",
    "```\n",
    "cat will show:\n",
    "\n",
    "** wc -l \"\\$@\" | sort -n **"
   ]
  },
  {
   "cell_type": "markdown",
   "metadata": {},
   "source": [
    "you can probably figure out what it does. On the other hand, if you look at this script with comments it makes more sense.  \n",
    "\n",
    "Let’s add a comment to the script:\n"
   ]
  },
  {
   "cell_type": "markdown",
   "metadata": {},
   "source": [
    "open sorted.sh in nano:\n",
    "```bash\n",
    "$ nano sorted.sh\n",
    "```\n",
    "\n",
    "Type the comment:\n",
    "\n",
    "**# List files sorted by number of lines.**\n"
   ]
  },
  {
   "cell_type": "markdown",
   "metadata": {},
   "source": [
    "run **cat** one more time:\n",
    "```bash\n",
    "$ cat sorted.sh\n",
    "```\n",
    "\n",
    "Now if you shared the scripted or can’t remember what it does, you don’t have to figure it out — the comment at the top tells you what it does. \n",
    "\n",
    "A line or two of documentation like this make it much easier for other people (including your future self) to re-use your work. \n",
    "\n",
    "The only caveat is that each time you modify the script, you should check that the comment is still accurate: an explanation that sends the reader in the wrong direction is worse than none at all.\n"
   ]
  },
  {
   "cell_type": "markdown",
   "metadata": {},
   "source": [
    "Suppose we have just run a series of commands that did something useful — for example, that created a graph we’d like to use in a paper. We’d like to be able to re-create the graph later if we need to, so we want to save the commands in a file. Instead of typing them in again (and potentially getting them wrong) we can do this:"
   ]
  },
  {
   "cell_type": "code",
   "execution_count": 185,
   "metadata": {
    "collapsed": false
   },
   "outputs": [
    {
     "name": "stdout",
     "output_type": "stream",
     "text": []
    }
   ],
   "source": [
    "history | tail -n 5 > redo-figure-3.sh"
   ]
  },
  {
   "cell_type": "markdown",
   "metadata": {},
   "source": [
    "The file redo-figure-3.sh now contains the last several commands we used:"
   ]
  },
  {
   "cell_type": "code",
   "execution_count": 187,
   "metadata": {
    "collapsed": false
   },
   "outputs": [
    {
     "name": "stdout",
     "output_type": "stream",
     "text": [
      "  945  pwd\r\n",
      "  946  echo $?\r\n",
      "  947  $ history | tail -n 5 > redo-figure-3.sh\r\n",
      "  948  echo $?\r\n",
      "  949  history | tail -n 5 > redo-figure-3.sh\r\n"
     ]
    }
   ],
   "source": [
    "cat redo-figure-3.sh"
   ]
  },
  {
   "cell_type": "markdown",
   "metadata": {},
   "source": [
    "\n",
    "In practice, most people develop shell scripts by running commands at the shell prompt a few times to make sure they’re doing the right thing, then saving them in a file for re-use. \n",
    "\n",
    "This style of work allows people to recycle what they discover about their data and their workflow with one call to **history** and a bit of editing to clean up the output and save it as a shell script."
   ]
  },
  {
   "cell_type": "markdown",
   "metadata": {},
   "source": [
    "### Nelle's Pipeline: Creating a Script"
   ]
  },
  {
   "cell_type": "markdown",
   "metadata": {},
   "source": [
    "#### Scenario:\n",
    "\n",
    "An off-hand comment from her supervisor has made Nelle realize that she should have provided a couple of extra parameters to goostats when she processed her files. This might have been a disaster if she had done all the analysis by hand, but thanks to for loops, it will only take a couple of hours to re-do.\n",
    "\n",
    "But experience has taught her that if something needs to be done twice, it will probably need to be done a third or fourth time as well. She runs the editor and writes the following:\n"
   ]
  },
  {
   "cell_type": "markdown",
   "metadata": {},
   "source": [
    "```bash\n",
    "# Calculate reduced stats for data files at J = 100 c/bp.\n",
    "for datafile in \"$@\"\n",
    "do\n",
    "    echo $datafile\n",
    "    bash goostats -J 100 -r $datafile stats-$datafile\n",
    "done\n",
    "```\n",
    "\n",
    "(The parameters -J 100 and -r are the ones her supervisor said she should have used.) She saves this in a file called do-stats.sh so that she can now re-do the first stage of her analysis by typing:"
   ]
  },
  {
   "cell_type": "markdown",
   "metadata": {},
   "source": [
    "```bash\n",
    "$ bash do-stats.sh *[AB].txt\n",
    "```\n"
   ]
  },
  {
   "cell_type": "markdown",
   "metadata": {},
   "source": [
    "She can also do this:"
   ]
  },
  {
   "cell_type": "markdown",
   "metadata": {},
   "source": [
    "```bash\n",
    "$ bash do-stats.sh *[AB].txt | wc -l\n",
    "```"
   ]
  },
  {
   "cell_type": "markdown",
   "metadata": {},
   "source": [
    "so that the output is just the number of files processed rather than the names of the files that were processed.\n",
    "\n",
    "One thing to note about Nelle’s script is that it lets the person running it decide what files to process. She could have written it as:"
   ]
  },
  {
   "cell_type": "markdown",
   "metadata": {},
   "source": [
    "```bash\n",
    "# Calculate reduced stats for  A and Site B data files at J = 100 c/bp.\n",
    "for datafile in *[AB].txt\n",
    "do\n",
    "    echo $datafile\n",
    "    bash goostats -J 100 -r $datafile stats-$datafile\n",
    "done\n",
    "```"
   ]
  },
  {
   "cell_type": "markdown",
   "metadata": {},
   "source": [
    "The advantage is that this always selects the right files: she doesn’t have to remember to exclude the ‘Z’ files. The disadvantage is that it always selects just those files — she can’t run it on all files (including the ‘Z’ files), or on the ‘G’ or ‘H’ files her colleagues in Antarctica are producing, without editing the script. If she wanted to be more adventurous, she could modify her script to check for command-line parameters, and use \\*[AB].txt if none were provided. Of course, this introduces another tradeoff between flexibility and complexity."
   ]
  },
  {
   "cell_type": "markdown",
   "metadata": {},
   "source": [
    "# Lesson 6: Finding Things - Using Grep"
   ]
  },
  {
   "cell_type": "markdown",
   "metadata": {},
   "source": [
    "* Use grep to select lines from text files that match simple patterns.\n",
    "* Use find to find files whose names match simple patterns.\n",
    "* Use the output of one command as the command-line parameters to another command.\n",
    "* Explain what is meant by “text” and “binary” files, and why many common tools don’t handle the latter well.\n"
   ]
  },
  {
   "cell_type": "markdown",
   "metadata": {},
   "source": [
    "In the same way that many of us now use “Google” as a verb meaning “to find”, Unix programmers often use the word “grep”. \n",
    "\n",
    "“grep” is a contraction of “global/regular expression/print”, a common sequence of operations in early Unix text editors. It is also the name of a very useful command-line program.\n",
    "\n",
    "**grep** finds and prints lines in files that match a pattern. \n",
    "\n",
    "For our examples, we will use a file that contains three haikus taken from a 1998 competition in Salon magazine. \n",
    "\n",
    "For this set of examples, we’re going to be working in the **writing** subdirectory:"
   ]
  },
  {
   "cell_type": "code",
   "execution_count": 188,
   "metadata": {
    "collapsed": false
   },
   "outputs": [
    {
     "name": "stdout",
     "output_type": "stream",
     "text": [
      "/Users/rotsuji/desktop/sio-swc/data-shell/molecules\r\n"
     ]
    }
   ],
   "source": [
    "pwd"
   ]
  },
  {
   "cell_type": "code",
   "execution_count": 189,
   "metadata": {
    "collapsed": false
   },
   "outputs": [
    {
     "name": "stdout",
     "output_type": "stream",
     "text": []
    }
   ],
   "source": [
    "cd .."
   ]
  },
  {
   "cell_type": "code",
   "execution_count": 190,
   "metadata": {
    "collapsed": false
   },
   "outputs": [
    {
     "name": "stdout",
     "output_type": "stream",
     "text": [
      "/Users/rotsuji/desktop/sio-swc/data-shell\r\n"
     ]
    }
   ],
   "source": [
    "pwd"
   ]
  },
  {
   "cell_type": "code",
   "execution_count": 191,
   "metadata": {
    "collapsed": false
   },
   "outputs": [
    {
     "name": "stdout",
     "output_type": "stream",
     "text": []
    }
   ],
   "source": [
    "cd writing"
   ]
  },
  {
   "cell_type": "code",
   "execution_count": 192,
   "metadata": {
    "collapsed": false
   },
   "outputs": [
    {
     "name": "stdout",
     "output_type": "stream",
     "text": [
      "/Users/rotsuji/desktop/sio-swc/data-shell/writing\r\n"
     ]
    }
   ],
   "source": [
    "pwd"
   ]
  },
  {
   "cell_type": "code",
   "execution_count": 193,
   "metadata": {
    "collapsed": false
   },
   "outputs": [
    {
     "name": "stdout",
     "output_type": "stream",
     "text": [
      "The Tao that is seen\r\n",
      "Is not the true Tao, until\r\n",
      "You bring fresh toner.\r\n",
      "\r\n",
      "With searching comes loss\r\n",
      "and the presence of absence:\r\n",
      "\"My Thesis\" not found.\r\n",
      "\r\n",
      "Yesterday it worked\r\n",
      "Today it is not working\r\n",
      "Software is like that.\r\n"
     ]
    }
   ],
   "source": [
    "cat haiku.txt"
   ]
  },
  {
   "cell_type": "markdown",
   "metadata": {},
   "source": [
    "Let’s find lines that contain the word “not”:"
   ]
  },
  {
   "cell_type": "code",
   "execution_count": 194,
   "metadata": {
    "collapsed": false
   },
   "outputs": [
    {
     "name": "stdout",
     "output_type": "stream",
     "text": [
      "Is not the true Tao, until\r\n",
      "\"My Thesis\" not found.\r\n",
      "Today it is not working\r\n"
     ]
    }
   ],
   "source": [
    "grep not haiku.txt"
   ]
  },
  {
   "cell_type": "markdown",
   "metadata": {},
   "source": [
    "The word  not is the pattern we’re searching for.\n",
    "\n",
    "It’s pretty simple: every alphanumeric character matches against itself.\n",
    "\n",
    "After the pattern comes the name or names of the files we’re searching in.\n",
    "\n",
    "The output is the three lines in the file that contain the letters “not”."
   ]
  },
  {
   "cell_type": "markdown",
   "metadata": {},
   "source": [
    "Now, Let’s try a different pattern: “day”."
   ]
  },
  {
   "cell_type": "code",
   "execution_count": 195,
   "metadata": {
    "collapsed": false
   },
   "outputs": [
    {
     "name": "stdout",
     "output_type": "stream",
     "text": [
      "Yesterday it worked\r\n",
      "Today it is not working\r\n"
     ]
    }
   ],
   "source": [
    "grep day haiku.txt"
   ]
  },
  {
   "cell_type": "markdown",
   "metadata": {},
   "source": [
    "This time, two lines that include the letters “day” are outputted.\n",
    "\n",
    "However, these letters are contained within larger words. “Yesterday” and “today”\n",
    "\n",
    "To **restrict matches to lines containing the word “day”** on its own, we can give **grep** with the **-w flag**. \n",
    "\n",
    "This will limit matches to word boundaries.\n"
   ]
  },
  {
   "cell_type": "code",
   "execution_count": 196,
   "metadata": {
    "collapsed": false
   },
   "outputs": [
    {
     "name": "stdout",
     "output_type": "stream",
     "text": []
    }
   ],
   "source": [
    "grep -w day haiku.txt"
   ]
  },
  {
   "cell_type": "markdown",
   "metadata": {},
   "source": [
    "In this case, **there aren’t any, so grep’s output is empty.** \n",
    "\n",
    "Sometimes we don’t want to search for a single word, but a phrase. \n",
    "\n",
    "This is also easy to do with grep by **putting the phrase in quotes.**\n"
   ]
  },
  {
   "cell_type": "code",
   "execution_count": 197,
   "metadata": {
    "collapsed": false
   },
   "outputs": [
    {
     "name": "stdout",
     "output_type": "stream",
     "text": [
      "Today it is not working\r\n"
     ]
    }
   ],
   "source": [
    "grep -w \"is not\" haiku.txt"
   ]
  },
  {
   "cell_type": "markdown",
   "metadata": {},
   "source": [
    "We’ve now seen that you don’t have to have quotes around single words, but it is useful to use quotes when searching for multiple words. \n",
    "\n",
    "It also helps to make it easier to distinguish between the search term or phrase and the file being searched. \n",
    "\n",
    "For the next remaining examples we will use quotes.\n",
    "\n",
    "Another useful option is **-n**, which **numbers the lines** that match:\n"
   ]
  },
  {
   "cell_type": "code",
   "execution_count": 198,
   "metadata": {
    "collapsed": false
   },
   "outputs": [
    {
     "name": "stdout",
     "output_type": "stream",
     "text": [
      "5:With searching comes loss\r\n",
      "9:Yesterday it worked\r\n",
      "10:Today it is not working\r\n"
     ]
    }
   ],
   "source": [
    "grep -n \"it\" haiku.txt"
   ]
  },
  {
   "cell_type": "markdown",
   "metadata": {},
   "source": [
    "can run **clear** command to clear the terminal, and using **“history”** will return the last commands if necessary"
   ]
  },
  {
   "cell_type": "markdown",
   "metadata": {},
   "source": [
    "Here, we can see that lines 5, 9, and 10 contain the letters “it”.\n",
    "\n",
    "We can combine options (i.e. flags) as we do with other Unix commands. \n",
    "\n",
    "For example, let’s find the lines that contain the word “the”. \n",
    "\n",
    "We can combine the option **-w (limited word bourndaries)** to find the lines that contain the word “the” and **-n** to number the lines that match:\n"
   ]
  },
  {
   "cell_type": "code",
   "execution_count": 199,
   "metadata": {
    "collapsed": false
   },
   "outputs": [
    {
     "name": "stdout",
     "output_type": "stream",
     "text": [
      "2:Is not the true Tao, until\r\n",
      "6:and the presence of absence:\r\n"
     ]
    }
   ],
   "source": [
    "grep -n -w \"the\" haiku.txt"
   ]
  },
  {
   "cell_type": "markdown",
   "metadata": {},
   "source": [
    "Now we want to use the option **-i** to make our search **case-insensitive:\n"
   ]
  },
  {
   "cell_type": "code",
   "execution_count": 200,
   "metadata": {
    "collapsed": false
   },
   "outputs": [
    {
     "name": "stdout",
     "output_type": "stream",
     "text": [
      "1:The Tao that is seen\r\n",
      "2:Is not the true Tao, until\r\n",
      "6:and the presence of absence:\r\n"
     ]
    }
   ],
   "source": [
    "grep -n -w -i \"the\" haiku.txt"
   ]
  },
  {
   "cell_type": "markdown",
   "metadata": {},
   "source": [
    "Now, we want to use the option **-v** to **invert our search**, i.e., we want to output the lines that do not contain the word “the”."
   ]
  },
  {
   "cell_type": "code",
   "execution_count": 201,
   "metadata": {
    "collapsed": false
   },
   "outputs": [
    {
     "name": "stdout",
     "output_type": "stream",
     "text": [
      "1:The Tao that is seen\r\n",
      "3:You bring fresh toner.\r\n",
      "4:\r\n",
      "5:With searching comes loss\r\n",
      "7:\"My Thesis\" not found.\r\n",
      "8:\r\n",
      "9:Yesterday it worked\r\n",
      "10:Today it is not working\r\n",
      "11:Software is like that.\r\n"
     ]
    }
   ],
   "source": [
    "grep -n -w -v \"the\" haiku.txt"
   ]
  },
  {
   "cell_type": "markdown",
   "metadata": {},
   "source": [
    "**grep** has lots of other options. \n",
    "\n",
    "To find out what they are, we can type **man grep**. \n",
    "\n",
    "**man** is the Unix “manual” command: it prints a description of a command and its options, and (if you’re lucky) provides a few examples of how to use it.\n",
    "\n",
    "To navigate through the **man** pages, you may use the up and down arrow keys to move line-by-line, or try the “b” and spacebar keys to skip up and down by full page. \n",
    "\n",
    "Quit the man pages by typing **“q”.**"
   ]
  },
  {
   "cell_type": "markdown",
   "metadata": {},
   "source": [
    "```bash\n",
    "$ man grep\n",
    "```\n",
    "\n",
    "or \n",
    "\n",
    "```bash\n",
    "$ grep --help\n",
    "```"
   ]
  },
  {
   "cell_type": "markdown",
   "metadata": {},
   "source": [
    "##### Mention Wildcards:\n",
    "\n",
    "grep‘s real power doesn’t come from its options, though; it comes from the fact that patterns can include wildcards. (The technical name for these is **regular expressions**, which is what the “re” in “grep” stands for.) \n"
   ]
  },
  {
   "cell_type": "code",
   "execution_count": 13,
   "metadata": {
    "collapsed": false
   },
   "outputs": [
    {
     "name": "stdout",
     "output_type": "stream",
     "text": [
      "You bring fresh toner.\r\n",
      "Today it is not working\r\n",
      "Software is like that.\r\n"
     ]
    }
   ],
   "source": [
    "grep -E '^.o' haiku.txt"
   ]
  },
  {
   "cell_type": "markdown",
   "metadata": {},
   "source": [
    "We use the -E flag and put the pattern in quotes to prevent the shell from trying to interpret it. (If the pattern contained a \\*, for example, the shell would try to expand it before running grep.) The ^ in the pattern anchors the match to the start of the line. The . matches a single character (just like ? in the shell), while the 'o' matches an actual ‘o’.\n",
    "\n",
    "While grep finds lines in files, the find command finds files themselves. \n",
    "\n",
    "\n",
    "Again, it has a lot of options; to show how the simplest ones work, we’ll use the directory tree shown below.\n"
   ]
  },
  {
   "cell_type": "markdown",
   "metadata": {},
   "source": [
    "Link to directory structure image: \n",
    "http://swcarpentry.github.io/shell-novice/fig/find-file-tree.svg"
   ]
  },
  {
   "cell_type": "markdown",
   "metadata": {},
   "source": [
    "Nelle’s writing directory contains one file called **haiku.txt** and four subdirectories: **thesis** (which contains a sadly empty file, **empty-draft.md**), **data** (which contains two files **one.txt** and **two.txt**), a tools directory that contains the programs **format** and **stats**, and a subdirectory called **old**, with a file **oldtool**."
   ]
  },
  {
   "cell_type": "markdown",
   "metadata": {},
   "source": [
    "For our first command, let’s run **find . **"
   ]
  },
  {
   "cell_type": "code",
   "execution_count": 17,
   "metadata": {
    "collapsed": false
   },
   "outputs": [
    {
     "name": "stdout",
     "output_type": "stream",
     "text": [
      ".\r\n",
      "./.DS_Store\r\n",
      "./data\r\n",
      "./data/one.txt\r\n",
      "./data/two.txt\r\n",
      "./haiku.txt\r\n",
      "./old\r\n",
      "./old/.gitkeep\r\n",
      "./thesis\r\n",
      "./thesis/empty-draft.md\r\n",
      "./tools\r\n",
      "./tools/format\r\n",
      "./tools/old\r\n",
      "./tools/old/oldtool\r\n",
      "./tools/stats\r\n"
     ]
    }
   ],
   "source": [
    "find ."
   ]
  },
  {
   "cell_type": "markdown",
   "metadata": {},
   "source": [
    "next, let’s run **find . -type d **"
   ]
  },
  {
   "cell_type": "code",
   "execution_count": 14,
   "metadata": {
    "collapsed": false
   },
   "outputs": [
    {
     "name": "stdout",
     "output_type": "stream",
     "text": [
      ".\r\n",
      "./data\r\n",
      "./old\r\n",
      "./thesis\r\n",
      "./tools\r\n",
      "./tools/old\r\n"
     ]
    }
   ],
   "source": [
    "find . -type d"
   ]
  },
  {
   "cell_type": "markdown",
   "metadata": {},
   "source": [
    "As always, the . on its own means the current working directory, which is where we want our search to start; **-type d** means **“things that are directories”**. Sure enough,find’s output is the names of the five directories in our little tree (including .):\n",
    "\n",
    "\n",
    "If we change **-type d** to **-type f**, we get a **listing of all the files** instead:"
   ]
  },
  {
   "cell_type": "code",
   "execution_count": 15,
   "metadata": {
    "collapsed": false
   },
   "outputs": [
    {
     "name": "stdout",
     "output_type": "stream",
     "text": [
      "./.DS_Store\r\n",
      "./data/one.txt\r\n",
      "./data/two.txt\r\n",
      "./haiku.txt\r\n",
      "./old/.gitkeep\r\n",
      "./thesis/empty-draft.md\r\n",
      "./tools/format\r\n",
      "./tools/old/oldtool\r\n",
      "./tools/stats\r\n"
     ]
    }
   ],
   "source": [
    "find . -type f"
   ]
  },
  {
   "cell_type": "markdown",
   "metadata": {},
   "source": [
    "find automatically goes into subdirectories, their subdirectories, and so on to find everything that matches the pattern we’ve given it. \n",
    "\n",
    "Now let's try matching by name:"
   ]
  },
  {
   "cell_type": "code",
   "execution_count": 18,
   "metadata": {
    "collapsed": false
   },
   "outputs": [
    {
     "name": "stdout",
     "output_type": "stream",
     "text": [
      "./haiku.txt\r\n"
     ]
    }
   ],
   "source": [
    "find . -name *.txt"
   ]
  },
  {
   "cell_type": "markdown",
   "metadata": {},
   "source": [
    "We expected it to find all the text files, but it only prints out ./haiku.txt. The problem is that the shell expands wildcard characters like \\* before commands run. \n",
    "\n",
    "Since \\*.txt in the current directory expands to haiku.txt, the command we actually ran was:"
   ]
  },
  {
   "cell_type": "code",
   "execution_count": 19,
   "metadata": {
    "collapsed": false
   },
   "outputs": [
    {
     "name": "stdout",
     "output_type": "stream",
     "text": [
      "./haiku.txt\r\n"
     ]
    }
   ],
   "source": [
    "find . -name haiku.txt"
   ]
  },
  {
   "cell_type": "markdown",
   "metadata": {},
   "source": [
    "find did what we asked; we just asked for the wrong thing.\n",
    "\n",
    "To get what we want, let’s do what we did with **grep: put *.txt in single quotes** to prevent the shell from expanding the \\* wildcard. This way, find actually gets the pattern \\*.txt, not the expanded filename haiku.txt:\n",
    "\n"
   ]
  },
  {
   "cell_type": "code",
   "execution_count": 20,
   "metadata": {
    "collapsed": false
   },
   "outputs": [
    {
     "name": "stdout",
     "output_type": "stream",
     "text": [
      "./data/one.txt\r\n",
      "./data/two.txt\r\n",
      "./haiku.txt\r\n"
     ]
    }
   ],
   "source": [
    "find . -name '*.txt'"
   ]
  },
  {
   "cell_type": "markdown",
   "metadata": {},
   "source": [
    "As we said earlier, the command line’s power lies in combining tools.\n",
    "\n",
    "We’ve seen how to do that with pipes; let’s look at another technique. \n",
    "\n",
    "As we just saw, **find . -name '*.txt'** gives us a list of all text files in or below the current directory. \n",
    "\n",
    "How can we combine that with **wc -l** to count the lines in all those files?\n",
    "\n",
    "The simplest way is to put the find command inside **$()**:\n",
    "\n"
   ]
  },
  {
   "cell_type": "code",
   "execution_count": 21,
   "metadata": {
    "collapsed": false
   },
   "outputs": [
    {
     "name": "stdout",
     "output_type": "stream",
     "text": [
      "      70 ./data/one.txt\r\n",
      "     300 ./data/two.txt\r\n",
      "      11 ./haiku.txt\r\n",
      "     381 total\r\n"
     ]
    }
   ],
   "source": [
    "wc -l $(find . -name '*.txt')"
   ]
  },
  {
   "cell_type": "markdown",
   "metadata": {},
   "source": [
    "When the shell executes this command, the first thing it does is run whatever is inside the $(). \n",
    "\n",
    "It then replaces the $() expression with that command’s output. \n",
    "\n",
    "Since the output of find is the three filenames ./data/one.txt, ./data/two.txt, and ./haiku.txt, the **shell constructs the command**:"
   ]
  },
  {
   "cell_type": "code",
   "execution_count": 22,
   "metadata": {
    "collapsed": false
   },
   "outputs": [
    {
     "name": "stdout",
     "output_type": "stream",
     "text": [
      "      70 ./data/one.txt\r\n",
      "     300 ./data/two.txt\r\n",
      "      11 ./haiku.txt\r\n",
      "     381 total\r\n"
     ]
    }
   ],
   "source": [
    "wc -l ./data/one.txt ./data/two.txt ./haiku.txt"
   ]
  },
  {
   "cell_type": "markdown",
   "metadata": {},
   "source": [
    "which is what we wanted. \n",
    "\n",
    "This expansion is exactly what the shell does when it expands wildcards like \\* and ?, but lets us use any command we want as our own “wildcard”.\n",
    "\n",
    "It’s very common to use find and grep together. \n",
    "\n",
    "The first finds files that match a pattern; the second looks for lines inside those files that match another pattern. Here, for example, we can find PDB files that contain iron atoms by looking for the string “FE” in all the .pdb files above the current directory:\n"
   ]
  },
  {
   "cell_type": "code",
   "execution_count": 23,
   "metadata": {
    "collapsed": false
   },
   "outputs": [
    {
     "name": "stdout",
     "output_type": "stream",
     "text": [
      "../data/pdb/heme.pdb:ATOM     25 FE           1      -0.924   0.535  -0.518\r\n"
     ]
    }
   ],
   "source": [
    "grep \"FE\" $(find .. -name '*.pdb')"
   ]
  },
  {
   "cell_type": "markdown",
   "metadata": {},
   "source": [
    "##### Binary Files Tips\n",
    "\n",
    "We have focused exclusively on finding things in text files. What if your data is stored as images, in databases, or in some other format? One option would be to extend tools like grep to handle those formats. This hasn’t happened, and probably won’t, because there are too many formats to support.\n",
    "\n",
    "The second option is to convert the data to text, or extract the text-ish bits from the data. This is probably the most common approach, since it only requires people to build one tool per data format (to extract information). On the one hand, it makes simple things easy to do. On the negative side, complex things are usually impossible. For example, it’s easy enough to write a program that will extract X and Y dimensions from image files for grep to play with, but how would you write something to find values in a spreadsheet whose cells contained formulas?\n",
    "\n",
    "The third choice is to recognize that the shell and text processing have their limits, and to use a programming language such as Python instead. When the time comes to do this, don’t be too hard on the shell: many modern programming languages, Python included, have borrowed a lot of ideas from it, and imitation is also the sincerest form of praise."
   ]
  },
  {
   "cell_type": "markdown",
   "metadata": {},
   "source": [
    "#### Unix Shelll Lessons Closing:\n",
    "The Unix shell is older than most of the people who use it. \n",
    "\n",
    "It has survived so long because it is one of the most productive programming environments ever created — maybe even the most productive.\n",
    "\n",
    "Its syntax may be cryptic, but people who have mastered it can experiment with different commands interactively, then use what they have learned to automate their work. \n",
    "\n",
    "Graphical user interfaces may be better at the first, but the shell is still unbeaten at the second. \n",
    "\n",
    "\n",
    "And as Alfred North Whitehead wrote in 1911, “Civilization advances by extending the number of important operations which we can perform without thinking about them.”"
   ]
  },
  {
   "cell_type": "code",
   "execution_count": null,
   "metadata": {
    "collapsed": true
   },
   "outputs": [],
   "source": []
  }
 ],
 "metadata": {
  "kernelspec": {
   "display_name": "Bash",
   "language": "bash",
   "name": "bash"
  },
  "language_info": {
   "codemirror_mode": "shell",
   "file_extension": ".sh",
   "mimetype": "text/x-sh",
   "name": "bash"
  }
 },
 "nbformat": 4,
 "nbformat_minor": 0
}

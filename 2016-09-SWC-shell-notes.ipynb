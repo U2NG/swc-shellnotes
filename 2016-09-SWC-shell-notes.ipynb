{
 "cells": [
  {
   "cell_type": "markdown",
   "metadata": {},
   "source": [
    "### Intro to Software Carpentry: http://swcarpentry.github.io/slideshows/introducing-software-carpentry/index.html#slide-0"
   ]
  },
  {
   "cell_type": "markdown",
   "metadata": {},
   "source": [
    "You need to download some files to follow this lesson:\n",
    "\n",
    "* Download <b>shell-novice-data.zip</b> and move the file to your Desktop.\n",
    "* Unzip/extract the file (ask your instructor if you need help with this step). You should end up with a new folder called data-shell on your Desktop. \n",
    "* Create a new folder on your desktop called <b>SIO-SWC</b>\n",
    "* Move the <b> data-shell folder into the sio-swc folder </b>.\n",
    "* Open a terminal and type:\n"
   ]
  },
  {
   "cell_type": "code",
   "execution_count": 7,
   "metadata": {
    "collapsed": false
   },
   "outputs": [
    {
     "name": "stdout",
     "output_type": "stream",
     "text": []
    }
   ],
   "source": [
    "cd"
   ]
  },
  {
   "cell_type": "markdown",
   "metadata": {},
   "source": [
    "#### In the lesson, you will find out how to access the data in this folder."
   ]
  },
  {
   "cell_type": "markdown",
   "metadata": {},
   "source": [
    "check to make sure data files have been installed to \\\\workshop\\data-shell\\\n",
    "\n",
    "Introducing the shell\n",
    "* The shell is a <b>command line interface</b>. \n",
    "* The Shell uses text commands instead of a graphical interface.  \n",
    "* The heart of a <b>CLI is a read-evaluate-print loop, or REPL </b>: \n",
    "* when the user types a command and then presses the enter (or return) key, the computer <b>reads it, executes it, and prints its output</b>. The user then types another command, and so on until the user logs off.\n",
    "\n",
    "* Commands are used in a program called a <b>command shell</b>. What your type goes into the shell, which then figures out what commands to run and orders the computer to execute them. Note, the shell is called the shell because it encloses the operating system in order to hide some of its complexity and make it simpler to interact with.\n",
    "\n",
    "* Importance of knowing how to use the Unix command shell the command line is often the easiest way to interact with remote machines and supercomputers. Familiarity with the shell is near essential to run a variety of specialised tools and resources including high-performance computing systems. As clusters and cloud computing systems become more popular for scientific data crunching, being able to interact with them is becoming a necessary skill.\n",
    "\n",
    "* Introduce Researcher Data: Nelle’s pipeline, Researcher data set and files used \n"
   ]
  },
  {
   "cell_type": "markdown",
   "metadata": {},
   "source": [
    "<b>Introduce Researcher Data: Nelle’s pipeline </b>\n",
    "Researcher data set and files used "
   ]
  },
  {
   "cell_type": "markdown",
   "metadata": {},
   "source": [
    "#### Nelle’s Pipeline: Starting Point\n",
    "Nelle Nemo, a marine biologist, has just returned from a six-month survey of the North Pacific Gyre, where she has been sampling gelatinous marine life in the Great Pacific Garbage Patch. She has 300 samples in all, and now needs to:\n",
    "* Run each sample through an assay machine that will measure the relative abundance of 300 different proteins. The machine’s output for a single sample is a file with one line for each protein.\n",
    "* Calculate statistics for each of the proteins separately using a program her supervisor wrote called <b>goostat</b>.\n",
    "* Compare the statistics for each protein with corresponding statistics for each other protein using a program one of the other graduate students wrote called goodiff.\n",
    "* Write up results. Her supervisor would really like her to do this by the end of the month so that her paper can appear in an upcoming special issue of Aquatic Goo Letters.\n",
    "\n",
    "It takes about half an hour for the assay machine to process each sample. The good news is that it only takes two minutes to set each one up. Since her lab has eight assay machines that she can use in parallel, this step will “only” take about two weeks.\n",
    "\n",
    "The bad news is that if she has to run goostat and goodiff by hand, she’ll have to enter filenames and click “OK” 45,150 times (300 runs ofgoostat, plus 300*299/2 (half of 300 times 299) runs of goodiff). At 30 seconds each, that will take more than two weeks. Not only would she miss her paper deadline, the chances of her typing all of those commands right are practically zero.\n",
    "\n",
    "The next few lessons will explore what she should do instead. More specifically, they explain how she can use a command shell to automate the repetitive steps in her processing pipeline so that her computer can work 24 hours a day while she writes her paper. As a bonus, once she has put a processing pipeline together, she will be able to use it again whenever she collects more data."
   ]
  },
  {
   "cell_type": "code",
   "execution_count": 8,
   "metadata": {
    "collapsed": false
   },
   "outputs": [
    {
     "name": "stdout",
     "output_type": "stream",
     "text": [
      "/Users/rotsuji\r\n"
     ]
    }
   ],
   "source": [
    "pwd"
   ]
  },
  {
   "cell_type": "markdown",
   "metadata": {},
   "source": [
    "### Lesson 1:  Files and Directories Objectives\n",
    "* Explain the similarities and differences between a file and a directory.\n",
    "* Translate an absolute path into a relative path and vice versa.\n",
    "* Construct absolute and relative paths that identify specific files and directories.\n",
    "* Explain the steps in the shell’s read-run-print cycle.\n",
    "* Identify the actual command, flags, and filenames in a command-line call.\n",
    "* Demonstrate the use of tab completion, and explain its advantages.\n"
   ]
  },
  {
   "cell_type": "markdown",
   "metadata": {},
   "source": [
    "#### Lesson starts here:"
   ]
  },
  {
   "cell_type": "markdown",
   "metadata": {},
   "source": [
    "* The part of the operating system responsible for managing files and directories is called the file system. \n",
    "\n",
    "* FS organizes our data into files, which hold information, and directories (also called “folders”), which hold files or other directories.\n",
    "\n",
    "* There are several commands are frequently used to create, inspect, rename, and delete files and directories. \n",
    "\n",
    "* let’s take a look at the shell window and start exploring:\n"
   ]
  },
  {
   "cell_type": "markdown",
   "metadata": {},
   "source": [
    "Fist looking at the shell:\n",
    "** $ **\n",
    "\n",
    "* the dollar sign is a ** prompt **. All shell commands are typed after the prompt.  \n",
    "\t\n",
    "Let’s start by typing: \n"
   ]
  },
  {
   "cell_type": "code",
   "execution_count": 9,
   "metadata": {
    "collapsed": false
   },
   "outputs": [
    {
     "name": "stdout",
     "output_type": "stream",
     "text": [
      "rotsuji\r\n"
     ]
    }
   ],
   "source": [
    "whoami"
   ]
  },
  {
   "cell_type": "markdown",
   "metadata": {},
   "source": [
    "the Output is the ID of the current user, shows us who the shell thinks we are.\n",
    "\n",
    "what’s happening:\n",
    "* finds a program called ** whoami **,\n",
    "* runs that program,\n",
    "* displays that program’s output, then\n",
    "* displays a new prompt to tell us that it’s ready for more commands.\n",
    "\n",
    "Next, let’s find out where we are by running a command called:\n"
   ]
  },
  {
   "cell_type": "code",
   "execution_count": 10,
   "metadata": {
    "collapsed": false
   },
   "outputs": [
    {
     "name": "stdout",
     "output_type": "stream",
     "text": [
      "/Users/rotsuji\r\n"
     ]
    }
   ],
   "source": [
    "pwd"
   ]
  },
  {
   "cell_type": "markdown",
   "metadata": {},
   "source": [
    "Or <b>“print working directory”</b> which shows your current working directory. \n",
    "\n",
    "The output you see is your **home directory.**\n",
    "\n",
    "\n",
    "Note: The directory path will look different on Windows ** Git Bash type example /c/Users/Reid or C:\\documents and settings\\Reid **"
   ]
  },
  {
   "cell_type": "markdown",
   "metadata": {},
   "source": [
    "#### Explain home directory:\n",
    "\n",
    "\n",
    "To understand what a “home directory” is, let’s have a look at how the file system as a whole is organized.\n",
    "\n",
    "* show file system image  http://swcarpentry.github.io/shell-novice/fig/filesystem.svg\n",
    "\n",
    "At the top is the **root directory** that holds everything else. We refer to it using a slash character / on its own; this is the leading slash in/Users/nelle.\n",
    "\n",
    "After this illustration, you’ll be learning commands to explore your own filesystem, which will be constructed in a similar way, but not be exactly identical.\n",
    "\n",
    "Inside that directory are several other directories: bin (which is where some built-in programs are stored), data (for miscellaneous data files), Users (where users’ personal directories are located), tmp (for temporary files that don’t need to be stored long-term), and so on.\n",
    "\n",
    "We know that our current working directory /Users/nelle is stored inside /Users because /Users is the first part of its name. Similarly, we know that /Users is stored inside the root directory / because its name begins with /.\n",
    "\n"
   ]
  },
  {
   "cell_type": "markdown",
   "metadata": {},
   "source": [
    "Typically, when you open a new command prompt you will be in your home directory to start.\n",
    "\n",
    "Now let’s learn the command that will let us see the contents of our own filesystem. We can see what’s in our home directory by running ls, which stands for “listing”:\n"
   ]
  },
  {
   "cell_type": "code",
   "execution_count": 12,
   "metadata": {
    "collapsed": false
   },
   "outputs": [
    {
     "name": "stdout",
     "output_type": "stream",
     "text": [
      "Adlm\t\t\t\tanaconda\r\n",
      "Applications\t\t\tbackup-rstudio-desktop\r\n",
      "Applications (Parallels)\tdata\r\n",
      "Conferencing\t\t\tdata-carpentry\r\n",
      "Creative Cloud Files\t\tgit_test\r\n",
      "Desktop\t\t\t\tlibswc\r\n",
      "Documents\t\t\tmy_project\r\n",
      "Downloads\t\t\tmyprojects\r\n",
      "Google Drive\t\t\tpebble-dev\r\n",
      "Google Drive MBPRO\t\tplanets\r\n",
      "LibCarp-lesson-two.docx\t\tplanets-test\r\n",
      "Library\t\t\t\tsd-workshop\r\n",
      "Movies\t\t\t\tsio-swc\r\n",
      "Music\t\t\t\tstickies 5_2016.txt\r\n",
      "My_R_projects\t\t\tswCarpentry-shell-data\r\n",
      "Pictures\t\t\tswc_files\r\n",
      "Public\t\t\t\tto-do stickie.txt\r\n",
      "README.md\t\t\ttodo - stickies .txt\r\n",
      "USERNAME.github.com\t\tvagrant_getting_started\r\n",
      "VirtualBox VMs\t\t\tvagrant_vms\r\n"
     ]
    }
   ],
   "source": [
    "ls"
   ]
  },
  {
   "cell_type": "markdown",
   "metadata": {},
   "source": [
    "**ls** prints the names of the files and directories in the current directory in alphabetical order, arranged neatly into columns. \n",
    "\n",
    "We can make its output more comprehensible by using the **flag -F**, which tells **ls to add a trailing / to the names of directories:**"
   ]
  },
  {
   "cell_type": "code",
   "execution_count": 13,
   "metadata": {
    "collapsed": false
   },
   "outputs": [
    {
     "name": "stdout",
     "output_type": "stream",
     "text": [
      "Adlm/\t\t\t\tanaconda/\r\n",
      "Applications/\t\t\tbackup-rstudio-desktop/\r\n",
      "Applications (Parallels)/\tdata/\r\n",
      "Conferencing/\t\t\tdata-carpentry/\r\n",
      "Creative Cloud Files/\t\tgit_test/\r\n",
      "Desktop/\t\t\tlibswc/\r\n",
      "Documents/\t\t\tmy_project/\r\n",
      "Downloads/\t\t\tmyprojects/\r\n",
      "Google Drive/\t\t\tpebble-dev/\r\n",
      "Google Drive MBPRO/\t\tplanets/\r\n",
      "LibCarp-lesson-two.docx\t\tplanets-test/\r\n",
      "Library/\t\t\tsd-workshop/\r\n",
      "Movies/\t\t\t\tsio-swc/\r\n",
      "Music/\t\t\t\tstickies 5_2016.txt\r\n",
      "My_R_projects/\t\t\tswCarpentry-shell-data/\r\n",
      "Pictures/\t\t\tswc_files/\r\n",
      "Public/\t\t\t\tto-do stickie.txt\r\n",
      "README.md\t\t\ttodo - stickies .txt\r\n",
      "USERNAME.github.com/\t\tvagrant_getting_started/\r\n",
      "VirtualBox VMs/\t\t\tvagrant_vms/\r\n"
     ]
    }
   ],
   "source": [
    "ls -F"
   ]
  },
  {
   "cell_type": "markdown",
   "metadata": {},
   "source": [
    "The forward slash after file names show directories that contain sub-directories\n",
    "\n",
    "We can also use **ls** to see the contents of a different directory. \n",
    "\n",
    "Let’s take a look at our Desktop directory by running **ls -F Desktop**, i.e., the command ls with the **arguments -F and Desktop.** The second argument — the one without a leading dash — tells ls that we want a listing of something other than our current working directory:\n"
   ]
  },
  {
   "cell_type": "markdown",
   "metadata": {},
   "source": [
    "**ls** has lots of other options. To find out what they are, we can type:"
   ]
  },
  {
   "cell_type": "code",
   "execution_count": 1,
   "metadata": {
    "collapsed": false
   },
   "outputs": [
    {
     "name": "stdout",
     "output_type": "stream",
     "text": [
      "ls: illegal option -- -\r\n",
      "usage: ls [-ABCFGHLOPRSTUWabcdefghiklmnopqrstuwx1] [file ...]\r\n"
     ]
    }
   ],
   "source": [
    "ls --help"
   ]
  },
  {
   "cell_type": "markdown",
   "metadata": {},
   "source": [
    "Introduce **man** help pages.\n",
    "\n",
    "Note: Windows Gitbash does not support man. use web search for information.\n",
    "\n",
    "To navigate through the man pages, you may use the **up and down arrow keys** to move line-by-line, or try the **“b” and spacebar keys to skip up and down by full page.** \n",
    "\n",
    "**Quit the man pages by typing “q”.**\n"
   ]
  },
  {
   "cell_type": "code",
   "execution_count": 18,
   "metadata": {
    "collapsed": false
   },
   "outputs": [
    {
     "name": "stdout",
     "output_type": "stream",
     "text": [
      "ANSM presentation FINAL Copies/\r\n",
      "ConnectingtoLibraryserversinOSX.pdf\r\n",
      "DSC_1742.JPG*\r\n",
      "DSC_7135.JPG*\r\n",
      "GoogleRefineCheatSheets.pdf\r\n",
      "Introduction-to-OpenRefine-handout-CC-BY.pdf\r\n",
      "LC-data/\r\n",
      "Launcher.app@\r\n",
      "MSFTFreeEbooks.txt\r\n",
      "MyPDF.PDF\r\n",
      "OpoenRefinetutorial.pdf\r\n",
      "ParallelsDesktop-12.0.0-41273.dmg\r\n",
      "Screen Shot 2016-09-07 at 2.15.01 PM.png\r\n",
      "Screen Shot 2016-09-07 at 2.16.48 PM.png\r\n",
      "Screen Shot 2016-09-07 at 2.25.50 PM.png\r\n",
      "Screen Shot 2016-09-07 at 2.27.50 PM.png\r\n",
      "Software carpentry stuff/\r\n",
      "Travel Funding Request Form Calc_Rev2014.02.21.pdf\r\n",
      "Ubuntu Linux 14.04 Desktop@\r\n",
      "Unix Shell Lesson Images/\r\n",
      "blender tutorial/\r\n",
      "desktop items for review/\r\n",
      "desktop stuff 5-2016/\r\n",
      "libcarp-data-notes/\r\n",
      "libcarp-data-notes - clean/\r\n",
      "lifecycle__intestinal_parasites_1.png\r\n",
      "lifecycle__intestinal_parasites_2.png\r\n",
      "otsuji_reid.pdf\r\n",
      "remy_on_trike.jpg\r\n",
      "sio-swc/\r\n",
      "slice.avi\r\n",
      "workshop/\r\n",
      "workshop_old/\r\n"
     ]
    }
   ],
   "source": [
    "ls -F Desktop"
   ]
  },
  {
   "cell_type": "markdown",
   "metadata": {},
   "source": [
    "Your output should be a list of all the files and sub-directories on your Desktop, including the workshop/data-shell directory you setup before the lesson. Take a look at your Desktop to confirm that your output is accurate.\n",
    "\n",
    "As you may now see, using a bash shell is strongly dependent on the idea that your files are organized in an hierarchical file system.\n",
    "\n",
    "Now that we know the data-shell directory is located on our Desktop in the workshop folder, we can do two things.\n",
    "First, we can look at its contents, using the same strategy as before, passing a directory name to ls:"
   ]
  },
  {
   "cell_type": "code",
   "execution_count": 4,
   "metadata": {
    "collapsed": false
   },
   "outputs": [
    {
     "name": "stdout",
     "output_type": "stream",
     "text": [
      "/Users/rotsuji\r\n"
     ]
    }
   ],
   "source": [
    "pwd"
   ]
  },
  {
   "cell_type": "code",
   "execution_count": 5,
   "metadata": {
    "collapsed": false
   },
   "outputs": [
    {
     "name": "stdout",
     "output_type": "stream",
     "text": [
      "Desktop/\t\tmolecules/\t\tpizza.cfg\r\n",
      "creatures/\t\tnorth-pacific-gyre/\tsolar.pdf\r\n",
      "data/\t\t\tnotes.txt\t\twriting/\r\n"
     ]
    }
   ],
   "source": [
    "ls -F Desktop/sio-swc/data-shell"
   ]
  },
  {
   "cell_type": "markdown",
   "metadata": {},
   "source": [
    "we can actually change our location to a different directory, so we are no longer located in our home directory.\t\n",
    "\n",
    "The command to change locations is **cd** followed by a directory name to change our working directory. cd stands for “change directory”, which is a bit misleading: the command doesn’t change the directory, it changes the shell’s idea of what directory we are in.\n",
    "\n",
    "Let’s say we want to move to the **data directory** we saw above. We can use the following series of commands to get there:"
   ]
  },
  {
   "cell_type": "markdown",
   "metadata": {},
   "source": [
    "To start over from my home directory, you can use the command:"
   ]
  },
  {
   "cell_type": "code",
   "execution_count": 15,
   "metadata": {
    "collapsed": false
   },
   "outputs": [
    {
     "name": "stdout",
     "output_type": "stream",
     "text": []
    }
   ],
   "source": [
    "cd "
   ]
  },
  {
   "cell_type": "code",
   "execution_count": 16,
   "metadata": {
    "collapsed": false
   },
   "outputs": [
    {
     "name": "stdout",
     "output_type": "stream",
     "text": [
      "/Users/rotsuji\r\n"
     ]
    }
   ],
   "source": [
    "pwd"
   ]
  },
  {
   "cell_type": "code",
   "execution_count": 12,
   "metadata": {
    "collapsed": false
   },
   "outputs": [
    {
     "name": "stdout",
     "output_type": "stream",
     "text": []
    }
   ],
   "source": [
    "cd desktop"
   ]
  },
  {
   "cell_type": "code",
   "execution_count": 13,
   "metadata": {
    "collapsed": false
   },
   "outputs": [
    {
     "name": "stdout",
     "output_type": "stream",
     "text": []
    }
   ],
   "source": [
    "cd sio-swc"
   ]
  },
  {
   "cell_type": "code",
   "execution_count": 14,
   "metadata": {
    "collapsed": false
   },
   "outputs": [
    {
     "name": "stdout",
     "output_type": "stream",
     "text": []
    }
   ],
   "source": [
    "cd data-shell"
   ]
  },
  {
   "cell_type": "markdown",
   "metadata": {},
   "source": [
    "These commands will move us from our home directory onto our Desktop, then into the workshop  directory then into data-shell directory, then into the data directory. cd doesn’t print anything, but if we run pwd after it, we can see that we are now in\n",
    "/desktop/sio-swc/data-shell/\n",
    "\n",
    "to check type:"
   ]
  },
  {
   "cell_type": "code",
   "execution_count": 19,
   "metadata": {
    "collapsed": false
   },
   "outputs": [
    {
     "name": "stdout",
     "output_type": "stream",
     "text": [
      "/Users/rotsuji/Desktop/sio-swc/data-shell\r\n"
     ]
    }
   ],
   "source": [
    "pwd"
   ]
  },
  {
   "cell_type": "code",
   "execution_count": 20,
   "metadata": {
    "collapsed": false
   },
   "outputs": [
    {
     "name": "stdout",
     "output_type": "stream",
     "text": [
      "Desktop/\t\tmolecules/\t\tpizza.cfg\r\n",
      "creatures/\t\tnorth-pacific-gyre/\tsolar.pdf\r\n",
      "data/\t\t\tnotes.txt\t\twriting/\r\n"
     ]
    }
   ],
   "source": [
    "ls -F"
   ]
  },
  {
   "cell_type": "markdown",
   "metadata": {},
   "source": [
    "Now We now know how to go down the directory tree: how do we go up? We might try the following:"
   ]
  },
  {
   "cell_type": "code",
   "execution_count": 21,
   "metadata": {
    "collapsed": false
   },
   "outputs": [
    {
     "name": "stdout",
     "output_type": "stream",
     "text": [
      "bash: cd: data-shell: No such file or directory\r\n"
     ]
    }
   ],
   "source": [
    "cd data-shell"
   ]
  },
  {
   "cell_type": "markdown",
   "metadata": {},
   "source": [
    "Error!   cd can only see sub-directories inside your current directory\n",
    "\tWindows - no such file or directory cd\n",
    "    \n",
    "There is a shortcut in the shell to move up one directory level that looks like this:"
   ]
  },
  {
   "cell_type": "code",
   "execution_count": 22,
   "metadata": {
    "collapsed": false
   },
   "outputs": [
    {
     "name": "stdout",
     "output_type": "stream",
     "text": []
    }
   ],
   "source": [
    "cd .."
   ]
  },
  {
   "cell_type": "markdown",
   "metadata": {},
   "source": [
    ".. is a special directory name meaning “the directory containing this one”, or more succinctly, the parent of the current directory. Sure enough, if we run pwd after running cd .."
   ]
  },
  {
   "cell_type": "code",
   "execution_count": 23,
   "metadata": {
    "collapsed": false
   },
   "outputs": [
    {
     "name": "stdout",
     "output_type": "stream",
     "text": [
      "/Users/rotsuji/Desktop/sio-swc\r\n"
     ]
    }
   ],
   "source": [
    "pwd"
   ]
  },
  {
   "cell_type": "markdown",
   "metadata": {},
   "source": [
    "The special or hidden directory .. doesn’t usually show up when we run ls. If we want to display it, we can give ls the -a flag:"
   ]
  },
  {
   "cell_type": "code",
   "execution_count": 24,
   "metadata": {
    "collapsed": false
   },
   "outputs": [
    {
     "name": "stdout",
     "output_type": "stream",
     "text": [
      "./\t\t.DS_Store\tREADME.md\r\n",
      "../\t\t.git/\t\tdata-shell/\r\n"
     ]
    }
   ],
   "source": [
    "ls -F -a"
   ]
  },
  {
   "cell_type": "markdown",
   "metadata": {},
   "source": [
    "-a stands for “show all”; it forces ls to show us file and directory names that begin with ., such as ..\n",
    "As you can see, it also displays another special directory that’s just called., which means “the current working directory”. It may seem redundant to have a name for it, but we’ll see some uses for it soon.\n",
    "\n",
    "These then, are the basic commands for navigating the filesystem on your computer: pwd, ls and cd. Let’s explore some variations on those commands. \n",
    "\n",
    "What happens if you type cd on its own, without giving a directory?"
   ]
  },
  {
   "cell_type": "code",
   "execution_count": 25,
   "metadata": {
    "collapsed": false
   },
   "outputs": [
    {
     "name": "stdout",
     "output_type": "stream",
     "text": []
    }
   ],
   "source": [
    "cd"
   ]
  },
  {
   "cell_type": "markdown",
   "metadata": {},
   "source": [
    "How can you check what happened? pwd gives us the answer!"
   ]
  },
  {
   "cell_type": "code",
   "execution_count": 26,
   "metadata": {
    "collapsed": false
   },
   "outputs": [
    {
     "name": "stdout",
     "output_type": "stream",
     "text": [
      "/Users/rotsuji\r\n"
     ]
    }
   ],
   "source": [
    "pwd"
   ]
  },
  {
   "cell_type": "markdown",
   "metadata": {},
   "source": [
    "It turns out that cd without an argument will return you to your home directory, which is great if you’ve gotten lost in your own filesystem.\n",
    "\n",
    "Let’s try returning to the data directory from before. Last time, we used three commands, but we can actually string together the list of directories to move to data in one step:"
   ]
  },
  {
   "cell_type": "code",
   "execution_count": 27,
   "metadata": {
    "collapsed": false
   },
   "outputs": [
    {
     "name": "stdout",
     "output_type": "stream",
     "text": []
    }
   ],
   "source": [
    "cd desktop/sio-swc/data-shell"
   ]
  },
  {
   "cell_type": "markdown",
   "metadata": {},
   "source": [
    "Check that we’ve moved to the right place by running pwd and ls -F."
   ]
  },
  {
   "cell_type": "code",
   "execution_count": 28,
   "metadata": {
    "collapsed": false
   },
   "outputs": [
    {
     "name": "stdout",
     "output_type": "stream",
     "text": [
      "/Users/rotsuji/desktop/sio-swc/data-shell\r\n"
     ]
    }
   ],
   "source": [
    "pwd"
   ]
  },
  {
   "cell_type": "code",
   "execution_count": 29,
   "metadata": {
    "collapsed": false
   },
   "outputs": [
    {
     "name": "stdout",
     "output_type": "stream",
     "text": [
      "Desktop/\t\tmolecules/\t\tpizza.cfg\r\n",
      "creatures/\t\tnorth-pacific-gyre/\tsolar.pdf\r\n",
      "data/\t\t\tnotes.txt\t\twriting/\r\n"
     ]
    }
   ],
   "source": [
    "ls -F"
   ]
  },
  {
   "cell_type": "markdown",
   "metadata": {},
   "source": [
    "ensure that we’re in the directory we expect\n",
    "\n",
    "**shortcuts:** The shell interprets the character ~ (tilde) at the start of a path to mean “the current user’s home directory”.  e.g. /c/Users/Reid\n",
    "Another shortcut is the - (dash) character. cd will translate - into the previous directory I was in, which is faster than having to remember, then type, the full path. \n",
    "\n",
    "**The difference between cd .. and cd - is that the former brings you up, while the later brings you back.**"
   ]
  },
  {
   "cell_type": "markdown",
   "metadata": {},
   "source": [
    "#### Introduce Nelle's pipline Organizing files:"
   ]
  },
  {
   "cell_type": "markdown",
   "metadata": {},
   "source": [
    "lets look at the researcher's files:\n",
    "\n",
    "First, she creates a directory called north-pacific-gyre (to remind herself where the data came from). \n",
    "Inside that, she creates a directory called 2012-07-03, which is the date she started processing the samples. She used to use names like conference-paper and revised-results, but she found them hard to understand after a couple of years. (The final straw was when she found herself creating a directory called revised-revised-results-3.)\n",
    "\n",
    "Each of her physical samples is labelled according to her lab’s convention with a unique ten-character ID, such as “NENE01729A”. \n",
    "\n",
    "This is what she used in her collection log to record the location, time, depth, and other characteristics of the sample, so she decides to use it as part of each data file’s name. \n",
    "\n",
    "Since the assay machine’s output is plain text, she will call her files NENE01729A.txt, NENE01812A.txt, and so on. All 1520 files will go into the same directory.\n"
   ]
  },
  {
   "cell_type": "markdown",
   "metadata": {},
   "source": [
    "Introduce tab completion while looking at Nelle's files:"
   ]
  },
  {
   "cell_type": "code",
   "execution_count": 30,
   "metadata": {
    "collapsed": false
   },
   "outputs": [
    {
     "name": "stdout",
     "output_type": "stream",
     "text": [
      "/Users/rotsuji/desktop/sio-swc/data-shell\r\n"
     ]
    }
   ],
   "source": [
    "pwd"
   ]
  },
  {
   "cell_type": "code",
   "execution_count": 31,
   "metadata": {
    "collapsed": false
   },
   "outputs": [
    {
     "name": "stdout",
     "output_type": "stream",
     "text": [
      "NENE01729A.txt\tNENE01751B.txt\tNENE01971Z.txt\tNENE02040A.txt\tNENE02043B.txt\r\n",
      "NENE01729B.txt\tNENE01812A.txt\tNENE01978A.txt\tNENE02040B.txt\tgoodiff\r\n",
      "NENE01736A.txt\tNENE01843A.txt\tNENE01978B.txt\tNENE02040Z.txt\tgoostats\r\n",
      "NENE01751A.txt\tNENE01843B.txt\tNENE02018B.txt\tNENE02043A.txt\r\n"
     ]
    }
   ],
   "source": [
    "ls north-pacific-gyre/2012-07-03"
   ]
  },
  {
   "cell_type": "markdown",
   "metadata": {},
   "source": [
    "This is a lot to type, but we can let the shell do most of the work through what is called **tab completion.** If we types:"
   ]
  },
  {
   "cell_type": "markdown",
   "metadata": {},
   "source": [
    "**$ ls nor [TAB]**"
   ]
  },
  {
   "cell_type": "markdown",
   "metadata": {},
   "source": [
    "and then presses tab (the tab key on her keyboard), the shell automatically completes the directory name for us: $ ls north-pacific-gyre/ "
   ]
  },
  {
   "cell_type": "markdown",
   "metadata": {},
   "source": [
    "**$ [Tab]**"
   ]
  },
  {
   "cell_type": "markdown",
   "metadata": {},
   "source": [
    "If we presses tab again, Bash will add 2012-07-03/ to the command, since it’s the only possible completion. \n",
    "$ ls north-pacific-gyre/2012-07-03/"
   ]
  },
  {
   "cell_type": "code",
   "execution_count": 34,
   "metadata": {
    "collapsed": false
   },
   "outputs": [
    {
     "name": "stdout",
     "output_type": "stream",
     "text": [
      "/Users/rotsuji/desktop/sio-swc/data-shell/north-pacific-gyre/2012-07-03\r\n"
     ]
    }
   ],
   "source": [
    "pwd"
   ]
  },
  {
   "cell_type": "markdown",
   "metadata": {},
   "source": [
    "## CHALLENGE SET 1 - end of section"
   ]
  },
  {
   "cell_type": "markdown",
   "metadata": {},
   "source": [
    "http://swcarpentry.github.io/shell-novice/02-filedir/#absolute-vs-relative-paths"
   ]
  },
  {
   "cell_type": "markdown",
   "metadata": {},
   "source": [
    "### Lesson 2:  Files and Directories Objectives"
   ]
  },
  {
   "cell_type": "markdown",
   "metadata": {},
   "source": [
    "* Create a directory hierarchy that matches a given diagram.\n",
    "* Create files in that hierarchy using an editor or by copying and renaming existing files.\n",
    "* Display the contents of a directory using the command line.\n",
    "* Delete specified files and/or directories.\n"
   ]
  },
  {
   "cell_type": "markdown",
   "metadata": {},
   "source": [
    "We now know how to explore files and directories, but how do we create them in the first place? Let’s go back to our **data-shell** directory\n",
    "\t\n",
    "If you are not at your data-shell directory use the cd command:"
   ]
  },
  {
   "cell_type": "code",
   "execution_count": 36,
   "metadata": {
    "collapsed": false
   },
   "outputs": [
    {
     "name": "stdout",
     "output_type": "stream",
     "text": [
      "/Users/rotsuji/desktop/sio-swc/data-shell/north-pacific-gyre\r\n"
     ]
    }
   ],
   "source": [
    "pwd"
   ]
  },
  {
   "cell_type": "code",
   "execution_count": 37,
   "metadata": {
    "collapsed": false
   },
   "outputs": [
    {
     "name": "stdout",
     "output_type": "stream",
     "text": []
    }
   ],
   "source": [
    "cd .."
   ]
  },
  {
   "cell_type": "markdown",
   "metadata": {},
   "source": [
    "now let’s check that we are in our data-shell directory and see what it contains:"
   ]
  },
  {
   "cell_type": "code",
   "execution_count": 38,
   "metadata": {
    "collapsed": false
   },
   "outputs": [
    {
     "name": "stdout",
     "output_type": "stream",
     "text": [
      "/Users/rotsuji/desktop/sio-swc/data-shell\r\n"
     ]
    }
   ],
   "source": [
    "pwd"
   ]
  },
  {
   "cell_type": "code",
   "execution_count": 39,
   "metadata": {
    "collapsed": false
   },
   "outputs": [
    {
     "name": "stdout",
     "output_type": "stream",
     "text": [
      "Desktop/\t\tmolecules/\t\tpizza.cfg\r\n",
      "creatures/\t\tnorth-pacific-gyre/\tsolar.pdf\r\n",
      "data/\t\t\tnotes.txt\t\twriting/\r\n"
     ]
    }
   ],
   "source": [
    "ls -F"
   ]
  },
  {
   "cell_type": "markdown",
   "metadata": {},
   "source": [
    "Let’s create a new directory called thesis using the command **mkdir thesis (which has no output):**"
   ]
  },
  {
   "cell_type": "code",
   "execution_count": 40,
   "metadata": {
    "collapsed": false
   },
   "outputs": [
    {
     "name": "stdout",
     "output_type": "stream",
     "text": []
    }
   ],
   "source": [
    "mkdir thesis"
   ]
  },
  {
   "cell_type": "markdown",
   "metadata": {},
   "source": [
    "As you might (or might not) guess from its name, mkdir means “make directory”. Since thesis is a relative path (i.e., doesn’t have a leading slash), "
   ]
  },
  {
   "cell_type": "code",
   "execution_count": 41,
   "metadata": {
    "collapsed": false
   },
   "outputs": [
    {
     "name": "stdout",
     "output_type": "stream",
     "text": [
      "Desktop/\t\tnorth-pacific-gyre/\tthesis/\r\n",
      "creatures/\t\tnotes.txt\t\twriting/\r\n",
      "data/\t\t\tpizza.cfg\r\n",
      "molecules/\t\tsolar.pdf\r\n"
     ]
    }
   ],
   "source": [
    "ls -F"
   ]
  },
  {
   "cell_type": "markdown",
   "metadata": {},
   "source": [
    "the new directory is created in the current working directory\n",
    "However, there’s nothing in it yet: "
   ]
  },
  {
   "cell_type": "markdown",
   "metadata": {},
   "source": [
    "#### Advice:\n",
    "\n",
    "Complicated names of files and directories can make your life very painful when working on the command line. Here we provide a few useful tips for the names of your files from now on.\n",
    "\n",
    "* Don’t use whitespaces.\n",
    "\n",
    "White spaces can make a name more meaningful but since whitespace is used to break arguments on the command line is better to avoid them on name of files and directories. You can use - or _ instead of whitespace.\n",
    "\n",
    "* Don’t begin the name with -.\n",
    "\n",
    "Commands treat names starting with - as options.\n",
    "\n",
    "* Stay with letters, numbers, ., - and _.\n",
    "\n",
    "May of the others characters have an special meaning on the command line that we will learn during this lesson. Some will only make your command not work at all but for some of them you can even lose some data.\n",
    "\n",
    "If you need to refer to names of files or directories that have whitespace or another non-alphanumeric character you should put quotes around the name.\n"
   ]
  },
  {
   "cell_type": "code",
   "execution_count": 42,
   "metadata": {
    "collapsed": false
   },
   "outputs": [
    {
     "name": "stdout",
     "output_type": "stream",
     "text": []
    }
   ],
   "source": [
    "ls -F thesis"
   ]
  },
  {
   "cell_type": "markdown",
   "metadata": {},
   "source": [
    "shows no list because the directory is empty.\n",
    "\n",
    "Let’s create and add a file.  Let’s change our working directory to thesis using cd, then run a text editor called Nano to create a file called draft.txt:"
   ]
  },
  {
   "cell_type": "code",
   "execution_count": 43,
   "metadata": {
    "collapsed": false
   },
   "outputs": [
    {
     "name": "stdout",
     "output_type": "stream",
     "text": []
    }
   ],
   "source": [
    "cd thesis"
   ]
  },
  {
   "cell_type": "code",
   "execution_count": 44,
   "metadata": {
    "collapsed": false
   },
   "outputs": [
    {
     "name": "stdout",
     "output_type": "stream",
     "text": [
      "/Users/rotsuji/desktop/sio-swc/data-shell/thesis\r\n"
     ]
    }
   ],
   "source": [
    "pwd"
   ]
  },
  {
   "cell_type": "markdown",
   "metadata": {},
   "source": [
    "Run nano draft.txt to create draft.txt file"
   ]
  },
  {
   "cell_type": "markdown",
   "metadata": {},
   "source": [
    "**$ nano draft.txt**\n",
    "\n",
    "Windows users can run:notepad draft.txt or nano in gitbash"
   ]
  },
  {
   "cell_type": "markdown",
   "metadata": {},
   "source": [
    "**It’s not “publish or perish” anymore,\n",
    "\tit’s “share and thrive”.**\n",
    "\n",
    "Let’s type in a few lines of text, mac users: use Control-O to write our data to disk:\n",
    "(Windows users save the txt file directly to the \\\\workshop\\data-shell\\thesis\\ folder)\n",
    "\n",
    "Once our file is saved, we can use Control-X to quit the nano editor and return to the shell. (Unix documentation often uses the shorthand ^A to mean “control-A”.) nano doesn’t leave any output on the screen after it exits, \n"
   ]
  },
  {
   "cell_type": "code",
   "execution_count": 45,
   "metadata": {
    "collapsed": false
   },
   "outputs": [
    {
     "name": "stdout",
     "output_type": "stream",
     "text": [
      "draft.txt\r\n"
     ]
    }
   ],
   "source": [
    "ls"
   ]
  },
  {
   "cell_type": "markdown",
   "metadata": {},
   "source": [
    "ls now shows that we have created a file called draft.txt:\n",
    "\n",
    "now, Let’s tidy up by running rm draft.txt:"
   ]
  },
  {
   "cell_type": "code",
   "execution_count": 46,
   "metadata": {
    "collapsed": false
   },
   "outputs": [
    {
     "name": "stdout",
     "output_type": "stream",
     "text": []
    }
   ],
   "source": [
    "rm draft.txt"
   ]
  },
  {
   "cell_type": "markdown",
   "metadata": {},
   "source": [
    "This command removes files (“rm” is short for “remove”). If we run ls again, its output is empty once more, which tells us that our file is gone:"
   ]
  },
  {
   "cell_type": "code",
   "execution_count": 47,
   "metadata": {
    "collapsed": false
   },
   "outputs": [
    {
     "name": "stdout",
     "output_type": "stream",
     "text": []
    }
   ],
   "source": [
    "ls"
   ]
  },
  {
   "cell_type": "markdown",
   "metadata": {},
   "source": [
    "the thesis directory is now empty."
   ]
  },
  {
   "cell_type": "markdown",
   "metadata": {},
   "source": [
    "**Deletion note:**  The Unix shell doesn’t have a trash bin that we can recover deleted files from (though most graphical interfaces to Unix do). Instead, when we delete files, they are unhooked from the file system so that their storage space on disk can be recycled. Tools for finding and recovering deleted files do exist, but there’s no guarantee they’ll work in any particular situation, since the computer may recycle the file’s disk space right away. \n",
    "\n",
    "* deleting is forever\n",
    "\n",
    "keep this in mind when deleting files in the Shell"
   ]
  },
  {
   "cell_type": "code",
   "execution_count": 48,
   "metadata": {
    "collapsed": false
   },
   "outputs": [
    {
     "name": "stdout",
     "output_type": "stream",
     "text": [
      "/Users/rotsuji/desktop/sio-swc/data-shell/thesis\r\n"
     ]
    }
   ],
   "source": [
    "pwd"
   ]
  },
  {
   "cell_type": "markdown",
   "metadata": {},
   "source": [
    "next, we are going to re-create that file in thesis folder again and then move up one directory to using cd ..:\n",
    "\n",
    "recreate file by typing\n"
   ]
  },
  {
   "cell_type": "markdown",
   "metadata": {},
   "source": [
    "**$ nano draft.txt or notepad draft.txt**"
   ]
  },
  {
   "cell_type": "markdown",
   "metadata": {},
   "source": [
    "type something in the txt file.\n",
    "double check the file has been created by typing **ls**"
   ]
  },
  {
   "cell_type": "code",
   "execution_count": 49,
   "metadata": {
    "collapsed": false
   },
   "outputs": [
    {
     "name": "stdout",
     "output_type": "stream",
     "text": [
      "draft.txt\r\n"
     ]
    }
   ],
   "source": [
    "ls"
   ]
  },
  {
   "cell_type": "code",
   "execution_count": 50,
   "metadata": {
    "collapsed": false
   },
   "outputs": [
    {
     "name": "stdout",
     "output_type": "stream",
     "text": [
      "/Users/rotsuji/desktop/sio-swc/data-shell/thesis\r\n"
     ]
    }
   ],
   "source": [
    "pwd"
   ]
  },
  {
   "cell_type": "markdown",
   "metadata": {},
   "source": [
    "move up one directory by typing cd .. cd ."
   ]
  },
  {
   "cell_type": "code",
   "execution_count": 51,
   "metadata": {
    "collapsed": false
   },
   "outputs": [
    {
     "name": "stdout",
     "output_type": "stream",
     "text": []
    }
   ],
   "source": [
    "cd .."
   ]
  },
  {
   "cell_type": "code",
   "execution_count": 52,
   "metadata": {
    "collapsed": false
   },
   "outputs": [
    {
     "name": "stdout",
     "output_type": "stream",
     "text": [
      "/Users/rotsuji/desktop/sio-swc/data-shell\r\n"
     ]
    }
   ],
   "source": [
    "pwd"
   ]
  },
  {
   "cell_type": "markdown",
   "metadata": {},
   "source": [
    "If we try to remove the entire thesis directory using **rm thesis**, we get an error message:"
   ]
  },
  {
   "cell_type": "code",
   "execution_count": 53,
   "metadata": {
    "collapsed": false
   },
   "outputs": [
    {
     "name": "stdout",
     "output_type": "stream",
     "text": [
      "rm: thesis: is a directory\r\n"
     ]
    }
   ],
   "source": [
    "rm thesis"
   ]
  },
  {
   "cell_type": "markdown",
   "metadata": {},
   "source": [
    "rm: cannot remove `thesis': Is a directory\n",
    "\n",
    "This happens because rm only works on files, not directories. \n",
    "\n",
    "The right command is **rmdir**, which is short for “remove directory”. \n",
    "\n",
    "It doesn’t wrmdirpwdork yet either, though, because the directory we’re trying to remove isn’t empty:"
   ]
  },
  {
   "cell_type": "code",
   "execution_count": 54,
   "metadata": {
    "collapsed": false
   },
   "outputs": [
    {
     "name": "stdout",
     "output_type": "stream",
     "text": [
      "rmdir: thesis: Directory not empty\r\n"
     ]
    }
   ],
   "source": [
    "rmdir thesis"
   ]
  },
  {
   "cell_type": "markdown",
   "metadata": {},
   "source": [
    "rmdir: failed to remove `thesis': Directory not empty\n",
    "\n",
    "This little safety feature can save you a lot of grief, particularly if you are a bad typist. \n",
    "\n",
    "To really get rid of thesis we must first delete the file draft.txt:"
   ]
  },
  {
   "cell_type": "code",
   "execution_count": 55,
   "metadata": {
    "collapsed": false
   },
   "outputs": [
    {
     "name": "stdout",
     "output_type": "stream",
     "text": []
    }
   ],
   "source": [
    "rm thesis/draft.txt"
   ]
  },
  {
   "cell_type": "markdown",
   "metadata": {},
   "source": [
    "The directory is now empty, so rmdir can delete it:"
   ]
  },
  {
   "cell_type": "code",
   "execution_count": 56,
   "metadata": {
    "collapsed": false
   },
   "outputs": [
    {
     "name": "stdout",
     "output_type": "stream",
     "text": []
    }
   ],
   "source": [
    "rmdir thesis"
   ]
  },
  {
   "cell_type": "markdown",
   "metadata": {},
   "source": [
    "the directory should now be deleted, we can double check by running"
   ]
  },
  {
   "cell_type": "code",
   "execution_count": 57,
   "metadata": {
    "collapsed": false
   },
   "outputs": [
    {
     "name": "stdout",
     "output_type": "stream",
     "text": [
      "Desktop/\t\tmolecules/\t\tpizza.cfg\r\n",
      "creatures/\t\tnorth-pacific-gyre/\tsolar.pdf\r\n",
      "data/\t\t\tnotes.txt\t\twriting/\r\n"
     ]
    }
   ],
   "source": [
    "ls -F"
   ]
  },
  {
   "cell_type": "markdown",
   "metadata": {},
   "source": [
    "TIP: if you are sure you want to delete a directory and all it’s content you can use \n",
    "\n",
    "$rm - r [directory name]\n",
    "\n",
    "**This removes everything in the directory, then the directory itself. If the directory contains sub-directories, rm -r does the same thing to them, and so on. It’s very handy, but can do a lot of damage if used without care.**"
   ]
  },
  {
   "cell_type": "markdown",
   "metadata": {},
   "source": [
    "once more, Let’s create that directory and file one more time. \n",
    "\n",
    "(Note that this time we’re running nano with the path thesis/draft.txt, rather than going into the thesis directory and running nano on draft.txt there.)"
   ]
  },
  {
   "cell_type": "code",
   "execution_count": 59,
   "metadata": {
    "collapsed": false
   },
   "outputs": [
    {
     "name": "stdout",
     "output_type": "stream",
     "text": [
      "/Users/rotsuji/desktop/sio-swc/data-shell\r\n"
     ]
    }
   ],
   "source": [
    "pwd"
   ]
  },
  {
   "cell_type": "code",
   "execution_count": 60,
   "metadata": {
    "collapsed": false
   },
   "outputs": [
    {
     "name": "stdout",
     "output_type": "stream",
     "text": []
    }
   ],
   "source": [
    "mkdir thesis"
   ]
  },
  {
   "cell_type": "markdown",
   "metadata": {},
   "source": [
    "**$ nano (or notepad) thesis/draft.txt**"
   ]
  },
  {
   "cell_type": "code",
   "execution_count": 61,
   "metadata": {
    "collapsed": false
   },
   "outputs": [
    {
     "name": "stdout",
     "output_type": "stream",
     "text": [
      "draft.txt\r\n"
     ]
    }
   ],
   "source": [
    "ls thesis"
   ]
  },
  {
   "cell_type": "markdown",
   "metadata": {},
   "source": [
    "Since draft.txt  isn’t a particularly informative name, we are going to change the file’s name using **mv**, which is short for “move”"
   ]
  },
  {
   "cell_type": "markdown",
   "metadata": {},
   "source": [
    "**$ mv thesis/draft.txt thesis/quotes.txt**"
   ]
  },
  {
   "cell_type": "markdown",
   "metadata": {},
   "source": [
    "when we run the move command, the first parameter tells mv what we’re “moving”, while the second is where it’s to go. \n",
    "\n",
    "In this case, we’re moving thesis/draft.txt to thesis/quotes.txt, which has the same effect as renaming the file.\n",
    "\n",
    "\tlet’s check to make sure the file was renamed. "
   ]
  },
  {
   "cell_type": "code",
   "execution_count": 73,
   "metadata": {
    "collapsed": false
   },
   "outputs": [
    {
     "name": "stdout",
     "output_type": "stream",
     "text": [
      "quotes.txt\r\n"
     ]
    }
   ],
   "source": [
    "ls thesis"
   ]
  },
  {
   "cell_type": "markdown",
   "metadata": {},
   "source": [
    "Sure enough, ls shows us that thesis now contains one file called quotes.txt:\n",
    "\n",
    "**Caution:** One has to be careful when specifying the target file name, since mv will silently overwrite any existing file with the same name, which could lead to data loss. An additional flag, mv -i (or mv --interactive), can be used to make mv ask the user for confirmation before overwriting.\n",
    "\n",
    "\n",
    "Now let’s say we want to move the quotes.txt file into the current working directory.  We use mv once again, but this time we’ll just use the name of a directory as the second parameter to tell mv that we want to keep the filename, but put the file somewhere new. (This is why the command is called “move”.) In this case, the directory name we use is the special directory name . that we mentioned earlier..  \n"
   ]
  },
  {
   "cell_type": "code",
   "execution_count": 76,
   "metadata": {
    "collapsed": false
   },
   "outputs": [
    {
     "name": "stdout",
     "output_type": "stream",
     "text": []
    }
   ],
   "source": [
    "mv thesis/quotes.txt ."
   ]
  },
  {
   "cell_type": "markdown",
   "metadata": {},
   "source": [
    "The effect is to move the file from the directory it was in to the current working directory. ls now shows us that thesis is empty:"
   ]
  },
  {
   "cell_type": "code",
   "execution_count": 77,
   "metadata": {
    "collapsed": false
   },
   "outputs": [
    {
     "name": "stdout",
     "output_type": "stream",
     "text": []
    }
   ],
   "source": [
    "ls thesis"
   ]
  },
  {
   "cell_type": "markdown",
   "metadata": {},
   "source": [
    "Further, ls with a filename or directory name as a parameter only lists that file or directory. We can use this to see that quotes.txt is still in our current directory:"
   ]
  },
  {
   "cell_type": "code",
   "execution_count": 78,
   "metadata": {
    "collapsed": false
   },
   "outputs": [
    {
     "name": "stdout",
     "output_type": "stream",
     "text": [
      "quotes.txt\r\n"
     ]
    }
   ],
   "source": [
    "ls quotes.txt"
   ]
  },
  {
   "cell_type": "markdown",
   "metadata": {},
   "source": [
    "For the last part of this lesson we’ll be using the command **cp** to make a copy of a file.  \n",
    "\n",
    "The **cp** command works very much like **mv**, except it copies a file instead of moving it. \n",
    "\n"
   ]
  },
  {
   "cell_type": "code",
   "execution_count": 81,
   "metadata": {
    "collapsed": false
   },
   "outputs": [
    {
     "name": "stdout",
     "output_type": "stream",
     "text": []
    }
   ],
   "source": [
    "cp quotes.txt thesis/quotations.txt"
   ]
  },
  {
   "cell_type": "markdown",
   "metadata": {},
   "source": [
    "We can check that it did the right thing using **ls** with two paths as parameters\n"
   ]
  },
  {
   "cell_type": "code",
   "execution_count": 82,
   "metadata": {
    "collapsed": false
   },
   "outputs": [
    {
     "name": "stdout",
     "output_type": "stream",
     "text": [
      "quotes.txt\t\tthesis/quotations.txt\r\n"
     ]
    }
   ],
   "source": [
    "ls quotes.txt thesis/quotations.txt"
   ]
  },
  {
   "cell_type": "markdown",
   "metadata": {},
   "source": [
    "To prove that we made a copy, let’s delete the quotes.txt file in the current directory and then run that same ls again."
   ]
  },
  {
   "cell_type": "code",
   "execution_count": 83,
   "metadata": {
    "collapsed": false
   },
   "outputs": [
    {
     "name": "stdout",
     "output_type": "stream",
     "text": []
    }
   ],
   "source": [
    "rm quotes.txt"
   ]
  },
  {
   "cell_type": "code",
   "execution_count": 84,
   "metadata": {
    "collapsed": false
   },
   "outputs": [
    {
     "name": "stdout",
     "output_type": "stream",
     "text": [
      "ls: quotes.txt: No such file or directory\r\n",
      "thesis/quotations.txt\r\n"
     ]
    }
   ],
   "source": [
    "ls quotes.txt thesis/quotations.txt"
   ]
  },
  {
   "cell_type": "markdown",
   "metadata": {},
   "source": [
    "**Error: ls: cannot access quotes.txt: No such file or directory\n",
    "thesis/quotations.txt**\n",
    "\n",
    "This time it tells us that it can’t find quotes.txt in the current directory, but it does find the copy in thesis that we didn’t delete."
   ]
  },
  {
   "cell_type": "markdown",
   "metadata": {},
   "source": [
    "## CHALLENGE SET 2 - end of section"
   ]
  },
  {
   "cell_type": "markdown",
   "metadata": {},
   "source": [
    "http://swcarpentry.github.io/shell-novice/03-create/#renaming-files"
   ]
  },
  {
   "cell_type": "markdown",
   "metadata": {},
   "source": [
    "### Lesson 3:  Pipes and Filters\n",
    "* Redirect a command’s output to a file.\n",
    "* Process a file instead of keyboard input using redirection.\n",
    "* Construct command pipelines with two or more stages.\n",
    "* Explain what usually happens if a program or pipeline isn’t given any input to process.\n",
    "* Explain Unix’s “small pieces, loosely joined” philosophy.\n"
   ]
  },
  {
   "cell_type": "markdown",
   "metadata": {},
   "source": [
    "Now that we know a few basic commands, let’s take a look at the shell’s most powerful feature: the ease with which it lets us combine existing programs in new ways. \n",
    "\n",
    "We’ll start with a directory called molecules that contains six files describing some simple organic molecules. The .pdb extension indicates that these files are in Protein Data Bank format, a simple text format that specifies the type and position of each atom in the molecule.\n",
    "\n",
    "To get started, \n",
    "\n",
    "Make sure you are in the data-shell folder. if not navigate to the folder in the shell.  \n",
    "\n",
    "You can check by typing:"
   ]
  },
  {
   "cell_type": "code",
   "execution_count": 85,
   "metadata": {
    "collapsed": false
   },
   "outputs": [
    {
     "name": "stdout",
     "output_type": "stream",
     "text": [
      "/Users/rotsuji/desktop/sio-swc/data-shell\r\n"
     ]
    }
   ],
   "source": [
    "pwd"
   ]
  },
  {
   "cell_type": "code",
   "execution_count": 86,
   "metadata": {
    "collapsed": false
   },
   "outputs": [
    {
     "name": "stdout",
     "output_type": "stream",
     "text": [
      "Desktop/\t\tnorth-pacific-gyre/\tthesis/\r\n",
      "creatures/\t\tnotes.txt\t\twriting/\r\n",
      "data/\t\t\tpizza.cfg\r\n",
      "molecules/\t\tsolar.pdf\r\n"
     ]
    }
   ],
   "source": [
    "ls -F"
   ]
  },
  {
   "cell_type": "markdown",
   "metadata": {},
   "source": [
    "Change to the molecules directory."
   ]
  },
  {
   "cell_type": "code",
   "execution_count": null,
   "metadata": {
    "collapsed": true
   },
   "outputs": [],
   "source": []
  },
  {
   "cell_type": "code",
   "execution_count": null,
   "metadata": {
    "collapsed": true
   },
   "outputs": [],
   "source": []
  },
  {
   "cell_type": "code",
   "execution_count": null,
   "metadata": {
    "collapsed": true
   },
   "outputs": [],
   "source": []
  },
  {
   "cell_type": "code",
   "execution_count": null,
   "metadata": {
    "collapsed": true
   },
   "outputs": [],
   "source": []
  },
  {
   "cell_type": "code",
   "execution_count": null,
   "metadata": {
    "collapsed": true
   },
   "outputs": [],
   "source": []
  },
  {
   "cell_type": "code",
   "execution_count": null,
   "metadata": {
    "collapsed": true
   },
   "outputs": [],
   "source": []
  },
  {
   "cell_type": "code",
   "execution_count": null,
   "metadata": {
    "collapsed": true
   },
   "outputs": [],
   "source": []
  },
  {
   "cell_type": "code",
   "execution_count": null,
   "metadata": {
    "collapsed": true
   },
   "outputs": [],
   "source": []
  },
  {
   "cell_type": "code",
   "execution_count": null,
   "metadata": {
    "collapsed": true
   },
   "outputs": [],
   "source": []
  },
  {
   "cell_type": "code",
   "execution_count": null,
   "metadata": {
    "collapsed": true
   },
   "outputs": [],
   "source": []
  },
  {
   "cell_type": "code",
   "execution_count": null,
   "metadata": {
    "collapsed": true
   },
   "outputs": [],
   "source": []
  },
  {
   "cell_type": "code",
   "execution_count": null,
   "metadata": {
    "collapsed": true
   },
   "outputs": [],
   "source": []
  }
 ],
 "metadata": {
  "kernelspec": {
   "display_name": "Bash",
   "language": "bash",
   "name": "bash"
  }
 },
 "nbformat": 4,
 "nbformat_minor": 0
}
